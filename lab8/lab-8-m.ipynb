{
 "cells": [
  {
   "cell_type": "markdown",
   "metadata": {},
   "source": [
    "8.2.1. Линейное программирование"
   ]
  },
  {
   "cell_type": "code",
   "execution_count": 1,
   "metadata": {},
   "outputs": [
    {
     "name": "stderr",
     "output_type": "stream",
     "text": [
      "\u001b[32m\u001b[1m   Updating\u001b[22m\u001b[39m registry at `C:\\Users\\Admin\\.julia\\registries\\General`\n",
      "\u001b[32m\u001b[1m  Resolving\u001b[22m\u001b[39m package versions...\n",
      "\u001b[32m\u001b[1mNo Changes\u001b[22m\u001b[39m to `C:\\Users\\Admin\\.julia\\environments\\v1.5\\Project.toml`\n",
      "\u001b[32m\u001b[1mNo Changes\u001b[22m\u001b[39m to `C:\\Users\\Admin\\.julia\\environments\\v1.5\\Manifest.toml`\n",
      "\u001b[32m\u001b[1m  Resolving\u001b[22m\u001b[39m package versions...\n",
      "\u001b[32m\u001b[1mNo Changes\u001b[22m\u001b[39m to `C:\\Users\\Admin\\.julia\\environments\\v1.5\\Project.toml`\n",
      "\u001b[32m\u001b[1mNo Changes\u001b[22m\u001b[39m to `C:\\Users\\Admin\\.julia\\environments\\v1.5\\Manifest.toml`\n"
     ]
    }
   ],
   "source": [
    "# Подключение пакетов:\n",
    "import Pkg\n",
    "Pkg.add(\"JuMP\")\n",
    "Pkg.add(\"GLPK\")\n",
    "using JuMP\n",
    "using GLPK"
   ]
  },
  {
   "cell_type": "code",
   "execution_count": 2,
   "metadata": {},
   "outputs": [
    {
     "data": {
      "text/latex": [
       "$$ \\begin{alignat*}{1}\\text{feasibility}\\\\\n",
       "\\text{Subject to} \\quad\\end{alignat*}\n",
       " $$"
      ],
      "text/plain": [
       "A JuMP Model\n",
       "Feasibility problem with:\n",
       "Variables: 0\n",
       "Model mode: AUTOMATIC\n",
       "CachingOptimizer state: EMPTY_OPTIMIZER\n",
       "Solver name: GLPK"
      ]
     },
     "execution_count": 2,
     "metadata": {},
     "output_type": "execute_result"
    }
   ],
   "source": [
    "# Определение объекта модели с именем model:\n",
    "model = Model(GLPK.Optimizer)"
   ]
  },
  {
   "cell_type": "code",
   "execution_count": 3,
   "metadata": {},
   "outputs": [
    {
     "data": {
      "text/latex": [
       "$$ y $$"
      ],
      "text/plain": [
       "y"
      ]
     },
     "execution_count": 3,
     "metadata": {},
     "output_type": "execute_result"
    }
   ],
   "source": [
    "# Определение переменных x, y и граничных условий для них:\n",
    "@variable(model, x >= 0)\n",
    "@variable(model, y >= 0)"
   ]
  },
  {
   "cell_type": "code",
   "execution_count": 4,
   "metadata": {},
   "outputs": [
    {
     "data": {
      "text/latex": [
       "$ 7 x + 12 y \\geq 120.0 $"
      ],
      "text/plain": [
       "7 x + 12 y >= 120.0"
      ]
     },
     "execution_count": 4,
     "metadata": {},
     "output_type": "execute_result"
    }
   ],
   "source": [
    "# Определение ограничений модели:\n",
    "@constraint(model, 6x + 8y >= 100)\n",
    "@constraint(model, 7x + 12y >= 120)"
   ]
  },
  {
   "cell_type": "code",
   "execution_count": 5,
   "metadata": {},
   "outputs": [
    {
     "data": {
      "text/latex": [
       "$$ 12 x + 20 y $$"
      ],
      "text/plain": [
       "12 x + 20 y"
      ]
     },
     "execution_count": 5,
     "metadata": {},
     "output_type": "execute_result"
    }
   ],
   "source": [
    "# Определение целевой функции:\n",
    "@objective(model, Min, 12x + 20y)"
   ]
  },
  {
   "cell_type": "code",
   "execution_count": 6,
   "metadata": {},
   "outputs": [],
   "source": [
    "# Вызов функции оптимизации:\n",
    "optimize!(model)"
   ]
  },
  {
   "cell_type": "code",
   "execution_count": 7,
   "metadata": {},
   "outputs": [
    {
     "data": {
      "text/plain": [
       "OPTIMAL::TerminationStatusCode = 1"
      ]
     },
     "execution_count": 7,
     "metadata": {},
     "output_type": "execute_result"
    }
   ],
   "source": [
    "# Определение причины завершения работы оптимизатора:\n",
    "termination_status(model)"
   ]
  },
  {
   "cell_type": "code",
   "execution_count": 8,
   "metadata": {},
   "outputs": [
    {
     "name": "stdout",
     "output_type": "stream",
     "text": [
      "value(x) = 14.999999999999993\n",
      "value(y) = 1.2500000000000047\n"
     ]
    }
   ],
   "source": [
    "# Демонстрация первичных результирующих значений переменных x и y:\n",
    "@show value(x);\n",
    "@show value(y);"
   ]
  },
  {
   "cell_type": "code",
   "execution_count": 9,
   "metadata": {},
   "outputs": [
    {
     "name": "stdout",
     "output_type": "stream",
     "text": [
      "objective_value(model) = 205.0\n"
     ]
    }
   ],
   "source": [
    "# Демонстрация результата оптимизации:\n",
    "@show objective_value(model);"
   ]
  },
  {
   "cell_type": "markdown",
   "metadata": {},
   "source": [
    "8.2.2. Векторизованные ограничения и целевая функция оптимизации"
   ]
  },
  {
   "cell_type": "code",
   "execution_count": 10,
   "metadata": {},
   "outputs": [
    {
     "name": "stderr",
     "output_type": "stream",
     "text": [
      "\u001b[32m\u001b[1m  Resolving\u001b[22m\u001b[39m package versions...\n",
      "\u001b[32m\u001b[1mNo Changes\u001b[22m\u001b[39m to `C:\\Users\\Admin\\.julia\\environments\\v1.5\\Project.toml`\n",
      "\u001b[32m\u001b[1mNo Changes\u001b[22m\u001b[39m to `C:\\Users\\Admin\\.julia\\environments\\v1.5\\Manifest.toml`\n",
      "\u001b[32m\u001b[1m  Resolving\u001b[22m\u001b[39m package versions...\n",
      "\u001b[32m\u001b[1mNo Changes\u001b[22m\u001b[39m to `C:\\Users\\Admin\\.julia\\environments\\v1.5\\Project.toml`\n",
      "\u001b[32m\u001b[1mNo Changes\u001b[22m\u001b[39m to `C:\\Users\\Admin\\.julia\\environments\\v1.5\\Manifest.toml`\n"
     ]
    }
   ],
   "source": [
    "# Подключение пакетов:\n",
    "import Pkg\n",
    "Pkg.add(\"JuMP\")\n",
    "Pkg.add(\"GLPK\")\n",
    "using JuMP\n",
    "using GLPK"
   ]
  },
  {
   "cell_type": "code",
   "execution_count": 11,
   "metadata": {},
   "outputs": [
    {
     "data": {
      "text/latex": [
       "$$ \\begin{alignat*}{1}\\text{feasibility}\\\\\n",
       "\\text{Subject to} \\quad\\end{alignat*}\n",
       " $$"
      ],
      "text/plain": [
       "A JuMP Model\n",
       "Feasibility problem with:\n",
       "Variables: 0\n",
       "Model mode: AUTOMATIC\n",
       "CachingOptimizer state: EMPTY_OPTIMIZER\n",
       "Solver name: GLPK"
      ]
     },
     "execution_count": 11,
     "metadata": {},
     "output_type": "execute_result"
    }
   ],
   "source": [
    "# Определение объекта модели с именем vector_model:\n",
    "vector_model = Model(GLPK.Optimizer)"
   ]
  },
  {
   "cell_type": "code",
   "execution_count": 12,
   "metadata": {},
   "outputs": [
    {
     "data": {
      "text/plain": [
       "4-element Array{Int64,1}:\n",
       " 1\n",
       " 3\n",
       " 5\n",
       " 2"
      ]
     },
     "execution_count": 12,
     "metadata": {},
     "output_type": "execute_result"
    }
   ],
   "source": [
    "# Определение начальных данных:\n",
    "A= [ 1 1 9 5;\n",
    "3 5 0 8;\n",
    "2 0 6 13]\n",
    "b = [7; 3; 5]\n",
    "c = [1; 3; 5; 2]"
   ]
  },
  {
   "cell_type": "code",
   "execution_count": 13,
   "metadata": {},
   "outputs": [
    {
     "data": {
      "text/plain": [
       "4-element Array{VariableRef,1}:\n",
       " x[1]\n",
       " x[2]\n",
       " x[3]\n",
       " x[4]"
      ]
     },
     "execution_count": 13,
     "metadata": {},
     "output_type": "execute_result"
    }
   ],
   "source": [
    "# Определение вектора переменных:\n",
    "@variable(vector_model, x[1:4] >= 0)"
   ]
  },
  {
   "cell_type": "code",
   "execution_count": 14,
   "metadata": {},
   "outputs": [
    {
     "data": {
      "text/plain": [
       "3-element Array{ConstraintRef{Model,MathOptInterface.ConstraintIndex{MathOptInterface.ScalarAffineFunction{Float64},MathOptInterface.EqualTo{Float64}},ScalarShape},1}:\n",
       " x[1] + x[2] + 9 x[3] + 5 x[4] == 7.0\n",
       " 3 x[1] + 5 x[2] + 8 x[4] == 3.0\n",
       " 2 x[1] + 6 x[3] + 13 x[4] == 5.0"
      ]
     },
     "execution_count": 14,
     "metadata": {},
     "output_type": "execute_result"
    }
   ],
   "source": [
    "# Определение ограничений модели:\n",
    "@constraint(vector_model, A * x .== b)"
   ]
  },
  {
   "cell_type": "code",
   "execution_count": 15,
   "metadata": {},
   "outputs": [
    {
     "data": {
      "text/latex": [
       "$$ x_{1} + 3 x_{2} + 5 x_{3} + 2 x_{4} $$"
      ],
      "text/plain": [
       "x[1] + 3 x[2] + 5 x[3] + 2 x[4]"
      ]
     },
     "execution_count": 15,
     "metadata": {},
     "output_type": "execute_result"
    }
   ],
   "source": [
    "# Определение целевой функции:\n",
    "@objective(vector_model, Min, c' * x)"
   ]
  },
  {
   "cell_type": "code",
   "execution_count": 16,
   "metadata": {},
   "outputs": [],
   "source": [
    "# Вызов функции оптимизации:\n",
    "optimize!(vector_model)"
   ]
  },
  {
   "cell_type": "code",
   "execution_count": 17,
   "metadata": {},
   "outputs": [
    {
     "data": {
      "text/plain": [
       "OPTIMAL::TerminationStatusCode = 1"
      ]
     },
     "execution_count": 17,
     "metadata": {},
     "output_type": "execute_result"
    }
   ],
   "source": [
    "# Определение причины завершения работы оптимизатора:\n",
    "termination_status(vector_model)"
   ]
  },
  {
   "cell_type": "code",
   "execution_count": 18,
   "metadata": {},
   "outputs": [
    {
     "name": "stdout",
     "output_type": "stream",
     "text": [
      "objective_value(vector_model) = 4.9230769230769225\n"
     ]
    }
   ],
   "source": [
    "# Демонстрация результата оптимизации:\n",
    "@show objective_value(vector_model);"
   ]
  },
  {
   "cell_type": "markdown",
   "metadata": {},
   "source": [
    "8.2.3. Оптимизация рациона питания"
   ]
  },
  {
   "cell_type": "code",
   "execution_count": 19,
   "metadata": {},
   "outputs": [
    {
     "name": "stderr",
     "output_type": "stream",
     "text": [
      "\u001b[32m\u001b[1m  Resolving\u001b[22m\u001b[39m package versions...\n",
      "\u001b[32m\u001b[1mNo Changes\u001b[22m\u001b[39m to `C:\\Users\\Admin\\.julia\\environments\\v1.5\\Project.toml`\n",
      "\u001b[32m\u001b[1mNo Changes\u001b[22m\u001b[39m to `C:\\Users\\Admin\\.julia\\environments\\v1.5\\Manifest.toml`\n",
      "\u001b[32m\u001b[1m  Resolving\u001b[22m\u001b[39m package versions...\n",
      "\u001b[32m\u001b[1mNo Changes\u001b[22m\u001b[39m to `C:\\Users\\Admin\\.julia\\environments\\v1.5\\Project.toml`\n",
      "\u001b[32m\u001b[1mNo Changes\u001b[22m\u001b[39m to `C:\\Users\\Admin\\.julia\\environments\\v1.5\\Manifest.toml`\n"
     ]
    }
   ],
   "source": [
    "# Подключение пакетов:\n",
    "import Pkg\n",
    "Pkg.add(\"JuMP\")\n",
    "Pkg.add(\"GLPK\")\n",
    "using JuMP\n",
    "using GLPK"
   ]
  },
  {
   "cell_type": "code",
   "execution_count": 20,
   "metadata": {},
   "outputs": [
    {
     "data": {
      "text/plain": [
       "2-dimensional DenseAxisArray{Float64,2,...} with index sets:\n",
       "    Dimension 1, [\"calories\", \"protein\", \"fat\", \"sodium\"]\n",
       "    Dimension 2, [\"min\", \"max\"]\n",
       "And data, a 4×2 Array{Float64,2}:\n",
       " 1800.0  2200.0\n",
       "   91.0    Inf\n",
       "    0.0    65.0\n",
       "    0.0  1779.0"
      ]
     },
     "execution_count": 20,
     "metadata": {},
     "output_type": "execute_result"
    }
   ],
   "source": [
    "# Контейнер для хранения данных об ограничениях на количество  потребляемых калорий, белков, жиров и соли:\n",
    "category_data = JuMP.Containers.DenseAxisArray(\n",
    "    [1800 2200;\n",
    "91 Inf;\n",
    "0 65;\n",
    "0 1779],\n",
    "[\"calories\", \"protein\", \"fat\", \"sodium\"],\n",
    "[\"min\", \"max\"])"
   ]
  },
  {
   "cell_type": "code",
   "execution_count": 21,
   "metadata": {},
   "outputs": [
    {
     "data": {
      "text/plain": [
       "9-element Array{String,1}:\n",
       " \"hamburger\"\n",
       " \"chicken\"\n",
       " \"hot dog\"\n",
       " \"fries\"\n",
       " \"macaroni\"\n",
       " \"pizza\"\n",
       " \"salad\"\n",
       " \"milk\"\n",
       " \"ice cream\""
      ]
     },
     "execution_count": 21,
     "metadata": {},
     "output_type": "execute_result"
    }
   ],
   "source": [
    "# массив данных с наименованиями продуктов:\n",
    "foods = [\"hamburger\", \"chicken\", \"hot dog\", \"fries\", \"macaroni\",\n",
    " \"pizza\",\"salad\", \"milk\", \"ice cream\"]"
   ]
  },
  {
   "cell_type": "code",
   "execution_count": 22,
   "metadata": {},
   "outputs": [
    {
     "data": {
      "text/plain": [
       "1-dimensional DenseAxisArray{Float64,1,...} with index sets:\n",
       "    Dimension 1, [\"hamburger\", \"chicken\", \"hot dog\", \"fries\", \"macaroni\", \"pizza\", \"salad\", \"milk\", \"ice cream\"]\n",
       "And data, a 9-element Array{Float64,1}:\n",
       " 2.49\n",
       " 2.89\n",
       " 1.5\n",
       " 1.89\n",
       " 2.09\n",
       " 1.99\n",
       " 2.49\n",
       " 0.89\n",
       " 1.59"
      ]
     },
     "execution_count": 22,
     "metadata": {},
     "output_type": "execute_result"
    }
   ],
   "source": [
    "# Массив стоимости продуктов:\n",
    "cost = JuMP.Containers.DenseAxisArray(\n",
    "[2.49, 2.89, 1.50, 1.89, 2.09, 1.99, 2.49, 0.89, 1.59],\n",
    "foods)"
   ]
  },
  {
   "cell_type": "code",
   "execution_count": 23,
   "metadata": {},
   "outputs": [
    {
     "data": {
      "text/plain": [
       "2-dimensional DenseAxisArray{Float64,2,...} with index sets:\n",
       "    Dimension 1, [\"hamburger\", \"chicken\", \"hot dog\", \"fries\", \"macaroni\", \"pizza\", \"salad\", \"milk\", \"ice cream\"]\n",
       "    Dimension 2, [\"calories\", \"protein\", \"fat\", \"sodium\"]\n",
       "And data, a 9×4 Array{Float64,2}:\n",
       " 410.0  24.0  26.0   730.0\n",
       " 420.0  32.0  10.0  1190.0\n",
       " 560.0  20.0  32.0  1800.0\n",
       " 380.0   4.0  19.0   270.0\n",
       " 320.0  12.0  10.0   930.0\n",
       " 320.0  15.0  12.0   820.0\n",
       " 320.0  31.0  12.0  1230.0\n",
       " 100.0   8.0   2.5   125.0\n",
       " 330.0   8.0  10.0   180.0"
      ]
     },
     "execution_count": 23,
     "metadata": {},
     "output_type": "execute_result"
    }
   ],
   "source": [
    "# Массив данных о содержании калорий, белков, жиров и соли в продуктах питания:\n",
    "food_data = JuMP.Containers.DenseAxisArray(\n",
    "[410 24 26 730;\n",
    "420 32 10 1190;\n",
    "560 20 32 1800;\n",
    "380 4 19 270;\n",
    "320 12 10 930;\n",
    "320 15 12 820;\n",
    "320 31 12 1230;\n",
    "100 8 2.5 125;\n",
    "330 8 10 180],\n",
    "foods,\n",
    "[\"calories\", \"protein\", \"fat\", \"sodium\"])"
   ]
  },
  {
   "cell_type": "code",
   "execution_count": 24,
   "metadata": {},
   "outputs": [
    {
     "data": {
      "text/latex": [
       "$$ \\begin{alignat*}{1}\\text{feasibility}\\\\\n",
       "\\text{Subject to} \\quad\\end{alignat*}\n",
       " $$"
      ],
      "text/plain": [
       "A JuMP Model\n",
       "Feasibility problem with:\n",
       "Variables: 0\n",
       "Model mode: AUTOMATIC\n",
       "CachingOptimizer state: EMPTY_OPTIMIZER\n",
       "Solver name: GLPK"
      ]
     },
     "execution_count": 24,
     "metadata": {},
     "output_type": "execute_result"
    }
   ],
   "source": [
    "# Определение объекта модели с именем model:\n",
    "model = Model(GLPK.Optimizer)"
   ]
  },
  {
   "cell_type": "code",
   "execution_count": 25,
   "metadata": {},
   "outputs": [
    {
     "data": {
      "text/plain": [
       "4-element Array{String,1}:\n",
       " \"calories\"\n",
       " \"protein\"\n",
       " \"fat\"\n",
       " \"sodium\""
      ]
     },
     "execution_count": 25,
     "metadata": {},
     "output_type": "execute_result"
    }
   ],
   "source": [
    "# Определим массив:\n",
    "categories = [\"calories\", \"protein\", \"fat\", \"sodium\"]"
   ]
  },
  {
   "cell_type": "code",
   "execution_count": 26,
   "metadata": {},
   "outputs": [],
   "source": [
    "# Определение переменных:\n",
    "@variables(model, begin\n",
    "category_data[c, \"min\"] <= nutrition[c = categories] <= category_data[c, \"max\"]\n",
    "# Сколько покупать продуктов:\n",
    "buy[foods] >= 0\n",
    "end)"
   ]
  },
  {
   "cell_type": "code",
   "execution_count": 27,
   "metadata": {},
   "outputs": [
    {
     "data": {
      "text/latex": [
       "$$ 2.49 buy_{hamburger} + 2.89 buy_{chicken} + 1.5 buy_{hot dog} + 1.89 buy_{fries} + 2.09 buy_{macaroni} + 1.99 buy_{pizza} + 2.49 buy_{salad} + 0.89 buy_{milk} + 1.59 buy_{ice cream} $$"
      ],
      "text/plain": [
       "2.49 buy[hamburger] + 2.89 buy[chicken] + 1.5 buy[hot dog] + 1.89 buy[fries] + 2.09 buy[macaroni] + 1.99 buy[pizza] + 2.49 buy[salad] + 0.89 buy[milk] + 1.59 buy[ice cream]"
      ]
     },
     "execution_count": 27,
     "metadata": {},
     "output_type": "execute_result"
    }
   ],
   "source": [
    "# Определение целевой функции:\n",
    "@objective(model, Min, sum(cost[f] * buy[f] for f in foods))"
   ]
  },
  {
   "cell_type": "code",
   "execution_count": 28,
   "metadata": {},
   "outputs": [
    {
     "data": {
      "text/plain": [
       "1-dimensional DenseAxisArray{ConstraintRef{Model,MathOptInterface.ConstraintIndex{MathOptInterface.ScalarAffineFunction{Float64},MathOptInterface.EqualTo{Float64}},ScalarShape},1,...} with index sets:\n",
       "    Dimension 1, [\"calories\", \"protein\", \"fat\", \"sodium\"]\n",
       "And data, a 4-element Array{ConstraintRef{Model,MathOptInterface.ConstraintIndex{MathOptInterface.ScalarAffineFunction{Float64},MathOptInterface.EqualTo{Float64}},ScalarShape},1}:\n",
       " -nutrition[calories] + 410 buy[hamburger] + 420 buy[chicken] + 560 buy[hot dog] + 380 buy[fries] + 320 buy[macaroni] + 320 buy[pizza] + 320 buy[salad] + 100 buy[milk] + 330 buy[ice cream] == 0.0\n",
       " -nutrition[protein] + 24 buy[hamburger] + 32 buy[chicken] + 20 buy[hot dog] + 4 buy[fries] + 12 buy[macaroni] + 15 buy[pizza] + 31 buy[salad] + 8 buy[milk] + 8 buy[ice cream] == 0.0\n",
       " -nutrition[fat] + 26 buy[hamburger] + 10 buy[chicken] + 32 buy[hot dog] + 19 buy[fries] + 10 buy[macaroni] + 12 buy[pizza] + 12 buy[salad] + 2.5 buy[milk] + 10 buy[ice cream] == 0.0\n",
       " -nutrition[sodium] + 730 buy[hamburger] + 1190 buy[chicken] + 1800 buy[hot dog] + 270 buy[fries] + 930 buy[macaroni] + 820 buy[pizza] + 1230 buy[salad] + 125 buy[milk] + 180 buy[ice cream] == 0.0"
      ]
     },
     "execution_count": 28,
     "metadata": {},
     "output_type": "execute_result"
    }
   ],
   "source": [
    "# Определение ограничений модели:\n",
    "@constraint(model, [c in categories],\n",
    "sum(food_data[f, c] * buy[f] for f in foods) == nutrition[c])"
   ]
  },
  {
   "cell_type": "code",
   "execution_count": 29,
   "metadata": {},
   "outputs": [
    {
     "data": {
      "text/plain": [
       "OPTIMAL::TerminationStatusCode = 1"
      ]
     },
     "execution_count": 29,
     "metadata": {},
     "output_type": "execute_result"
    }
   ],
   "source": [
    "# Вызов функции оптимизации:\n",
    "JuMP.optimize!(model)\n",
    "term_status = JuMP.termination_status(model)"
   ]
  },
  {
   "cell_type": "code",
   "execution_count": 30,
   "metadata": {},
   "outputs": [
    {
     "data": {
      "text/plain": [
       "9×2 Array{GenericAffExpr{Float64,VariableRef},2}:\n",
       " buy[hamburger]  0.6045138888888888\n",
       " buy[chicken]    0\n",
       " buy[hot dog]    0\n",
       " buy[fries]      0\n",
       " buy[macaroni]   0\n",
       " buy[pizza]      0\n",
       " buy[salad]      0\n",
       " buy[milk]       6.9701388888888935\n",
       " buy[ice cream]  2.591319444444441"
      ]
     },
     "execution_count": 30,
     "metadata": {},
     "output_type": "execute_result"
    }
   ],
   "source": [
    "#Для просмотра результата решения модно вывести значение переменной buy:\n",
    "hcat(buy.data,JuMP.value.(buy.data))"
   ]
  },
  {
   "cell_type": "markdown",
   "metadata": {},
   "source": [
    "8.2.4. Путешествие по миру"
   ]
  },
  {
   "cell_type": "code",
   "execution_count": 31,
   "metadata": {},
   "outputs": [],
   "source": [
    "# Скачиваем данные с ресурса на git:"
   ]
  },
  {
   "cell_type": "code",
   "execution_count": 32,
   "metadata": {},
   "outputs": [
    {
     "name": "stderr",
     "output_type": "stream",
     "text": [
      "\u001b[32m\u001b[1m  Resolving\u001b[22m\u001b[39m package versions...\n",
      "\u001b[32m\u001b[1mNo Changes\u001b[22m\u001b[39m to `C:\\Users\\Admin\\.julia\\environments\\v1.5\\Project.toml`\n",
      "\u001b[32m\u001b[1mNo Changes\u001b[22m\u001b[39m to `C:\\Users\\Admin\\.julia\\environments\\v1.5\\Manifest.toml`\n",
      "\u001b[32m\u001b[1m  Resolving\u001b[22m\u001b[39m package versions...\n",
      "\u001b[32m\u001b[1mNo Changes\u001b[22m\u001b[39m to `C:\\Users\\Admin\\.julia\\environments\\v1.5\\Project.toml`\n",
      "\u001b[32m\u001b[1mNo Changes\u001b[22m\u001b[39m to `C:\\Users\\Admin\\.julia\\environments\\v1.5\\Manifest.toml`\n"
     ]
    }
   ],
   "source": [
    "# Подключение пакетов:\n",
    "import Pkg\n",
    "Pkg.add(\"DelimitedFiles\")\n",
    "Pkg.add(\"CSV\")\n",
    "using DelimitedFiles\n",
    "using CSV"
   ]
  },
  {
   "cell_type": "code",
   "execution_count": 33,
   "metadata": {},
   "outputs": [
    {
     "data": {
      "text/plain": [
       "200×200 Array{Any,2}:\n",
       " \"Passport\"                \"Albania\"        …    \"Afghanistan\"\n",
       " \"Afghanistan\"             \"visa required\"     -1\n",
       " \"Albania\"               -1                      \"visa required\"\n",
       " \"Algeria\"                 \"visa required\"       \"visa required\"\n",
       " \"Andorra\"               90                      \"visa required\"\n",
       " \"Angola\"                  \"visa required\"  …    \"visa required\"\n",
       " \"Antigua and Barbuda\"   90                      \"visa required\"\n",
       " \"Argentina\"             90                      \"visa required\"\n",
       " \"Armenia\"               90                      \"visa required\"\n",
       " \"Australia\"             90                      \"visa required\"\n",
       " \"Austria\"               90                 …    \"visa required\"\n",
       " \"Azerbaijan\"            90                      \"visa required\"\n",
       " \"Bahamas\"               90                      \"visa required\"\n",
       " ⋮                                          ⋱  \n",
       " \"United Arab Emirates\"  90                      \"visa required\"\n",
       " \"United Kingdom\"        90                      \"visa required\"\n",
       " \"United States\"         90                 …    \"visa required\"\n",
       " \"Uruguay\"               90                      \"visa required\"\n",
       " \"Uzbekistan\"              \"visa required\"       \"visa required\"\n",
       " \"Vanuatu\"                 \"visa required\"       \"visa required\"\n",
       " \"Vatican\"               90                      \"visa required\"\n",
       " \"Venezuela\"             90                 …    \"visa required\"\n",
       " \"Vietnam\"                 \"visa required\"       \"visa required\"\n",
       " \"Yemen\"                   \"visa required\"       \"visa required\"\n",
       " \"Zambia\"                  \"visa required\"       \"visa required\"\n",
       " \"Zimbabwe\"                \"visa required\"       \"visa required\""
      ]
     },
     "execution_count": 33,
     "metadata": {},
     "output_type": "execute_result"
    }
   ],
   "source": [
    "# Считывание данных:\n",
    "passportdata = readdlm(\"passport-index-matrix.csv\",',')"
   ]
  },
  {
   "cell_type": "code",
   "execution_count": 34,
   "metadata": {},
   "outputs": [
    {
     "name": "stderr",
     "output_type": "stream",
     "text": [
      "\u001b[32m\u001b[1m  Resolving\u001b[22m\u001b[39m package versions...\n",
      "\u001b[32m\u001b[1mNo Changes\u001b[22m\u001b[39m to `C:\\Users\\Admin\\.julia\\environments\\v1.5\\Project.toml`\n",
      "\u001b[32m\u001b[1mNo Changes\u001b[22m\u001b[39m to `C:\\Users\\Admin\\.julia\\environments\\v1.5\\Manifest.toml`\n",
      "\u001b[32m\u001b[1m  Resolving\u001b[22m\u001b[39m package versions...\n",
      "\u001b[32m\u001b[1mNo Changes\u001b[22m\u001b[39m to `C:\\Users\\Admin\\.julia\\environments\\v1.5\\Project.toml`\n",
      "\u001b[32m\u001b[1mNo Changes\u001b[22m\u001b[39m to `C:\\Users\\Admin\\.julia\\environments\\v1.5\\Manifest.toml`\n"
     ]
    }
   ],
   "source": [
    "# Подключение пакетов:\n",
    "Pkg.add(\"JuMP\")\n",
    "Pkg.add(\"GLPK\")\n",
    "using JuMP\n",
    "using GLPK"
   ]
  },
  {
   "cell_type": "code",
   "execution_count": 35,
   "metadata": {},
   "outputs": [],
   "source": [
    "# Задаём переменные:\n",
    "cntr = passportdata[2:end,1]\n",
    "vf = (x -> typeof(x)==Int64 || x == \"VF\" || x == \"VOA\" ? 1 : 0).(passportdata[2:end,2:end]);"
   ]
  },
  {
   "cell_type": "code",
   "execution_count": 36,
   "metadata": {},
   "outputs": [
    {
     "data": {
      "text/latex": [
       "$$ \\begin{alignat*}{1}\\text{feasibility}\\\\\n",
       "\\text{Subject to} \\quad\\end{alignat*}\n",
       " $$"
      ],
      "text/plain": [
       "A JuMP Model\n",
       "Feasibility problem with:\n",
       "Variables: 0\n",
       "Model mode: AUTOMATIC\n",
       "CachingOptimizer state: EMPTY_OPTIMIZER\n",
       "Solver name: GLPK"
      ]
     },
     "execution_count": 36,
     "metadata": {},
     "output_type": "execute_result"
    }
   ],
   "source": [
    "# Определение объекта модели с именем model:\n",
    "model = Model(GLPK.Optimizer)"
   ]
  },
  {
   "cell_type": "code",
   "execution_count": 37,
   "metadata": {},
   "outputs": [
    {
     "data": {
      "text/latex": [
       "$$ pass_{1} + pass_{2} + pass_{3} + pass_{4} + pass_{5} + pass_{6} + pass_{7} + pass_{8} + pass_{9} + pass_{10} + pass_{11} + pass_{12} + pass_{13} + pass_{14} + pass_{15} + pass_{16} + pass_{17} + pass_{18} + pass_{19} + pass_{20} + pass_{21} + pass_{22} + pass_{23} + pass_{24} + pass_{25} + pass_{26} + pass_{27} + pass_{28} + pass_{29} + pass_{30} + pass_{31} + pass_{32} + pass_{33} + pass_{34} + pass_{35} + pass_{36} + pass_{37} + pass_{38} + pass_{39} + pass_{40} + pass_{41} + pass_{42} + pass_{43} + pass_{44} + pass_{45} + pass_{46} + pass_{47} + pass_{48} + pass_{49} + pass_{50} + pass_{51} + pass_{52} + pass_{53} + pass_{54} + pass_{55} + pass_{56} + pass_{57} + pass_{58} + pass_{59} + pass_{60} + pass_{61} + pass_{62} + pass_{63} + pass_{64} + pass_{65} + pass_{66} + pass_{67} + pass_{68} + pass_{69} + pass_{70} + pass_{71} + pass_{72} + pass_{73} + pass_{74} + pass_{75} + pass_{76} + pass_{77} + pass_{78} + pass_{79} + pass_{80} + pass_{81} + pass_{82} + pass_{83} + pass_{84} + pass_{85} + pass_{86} + pass_{87} + pass_{88} + pass_{89} + pass_{90} + pass_{91} + pass_{92} + pass_{93} + pass_{94} + pass_{95} + pass_{96} + pass_{97} + pass_{98} + pass_{99} + pass_{100} + pass_{101} + pass_{102} + pass_{103} + pass_{104} + pass_{105} + pass_{106} + pass_{107} + pass_{108} + pass_{109} + pass_{110} + pass_{111} + pass_{112} + pass_{113} + pass_{114} + pass_{115} + pass_{116} + pass_{117} + pass_{118} + pass_{119} + pass_{120} + pass_{121} + pass_{122} + pass_{123} + pass_{124} + pass_{125} + pass_{126} + pass_{127} + pass_{128} + pass_{129} + pass_{130} + pass_{131} + pass_{132} + pass_{133} + pass_{134} + pass_{135} + pass_{136} + pass_{137} + pass_{138} + pass_{139} + pass_{140} + pass_{141} + pass_{142} + pass_{143} + pass_{144} + pass_{145} + pass_{146} + pass_{147} + pass_{148} + pass_{149} + pass_{150} + pass_{151} + pass_{152} + pass_{153} + pass_{154} + pass_{155} + pass_{156} + pass_{157} + pass_{158} + pass_{159} + pass_{160} + pass_{161} + pass_{162} + pass_{163} + pass_{164} + pass_{165} + pass_{166} + pass_{167} + pass_{168} + pass_{169} + pass_{170} + pass_{171} + pass_{172} + pass_{173} + pass_{174} + pass_{175} + pass_{176} + pass_{177} + pass_{178} + pass_{179} + pass_{180} + pass_{181} + pass_{182} + pass_{183} + pass_{184} + pass_{185} + pass_{186} + pass_{187} + pass_{188} + pass_{189} + pass_{190} + pass_{191} + pass_{192} + pass_{193} + pass_{194} + pass_{195} + pass_{196} + pass_{197} + pass_{198} + pass_{199} $$"
      ],
      "text/plain": [
       "pass[1] + pass[2] + pass[3] + pass[4] + pass[5] + pass[6] + pass[7] + pass[8] + pass[9] + pass[10] + pass[11] + pass[12] + pass[13] + pass[14] + pass[15] + pass[16] + pass[17] + pass[18] + pass[19] + pass[20] + pass[21] + pass[22] + pass[23] + pass[24] + pass[25] + pass[26] + pass[27] + pass[28] + pass[29] + pass[30] + pass[31] + pass[32] + pass[33] + pass[34] + pass[35] + pass[36] + pass[37] + pass[38] + pass[39] + pass[40] + pass[41] + pass[42] + pass[43] + pass[44] + pass[45] + pass[46] + pass[47] + pass[48] + pass[49] + pass[50] + pass[51] + pass[52] + pass[53] + pass[54] + pass[55] + pass[56] + pass[57] + pass[58] + pass[59] + pass[60] + pass[61] + pass[62] + pass[63] + pass[64] + pass[65] + pass[66] + pass[67] + pass[68] + pass[69] + pass[70] + pass[71] + pass[72] + pass[73] + pass[74] + pass[75] + pass[76] + pass[77] + pass[78] + pass[79] + pass[80] + pass[81] + pass[82] + pass[83] + pass[84] + pass[85] + pass[86] + pass[87] + pass[88] + pass[89] + pass[90] + pass[91] + pass[92] + pass[93] + pass[94] + pass[95] + pass[96] + pass[97] + pass[98] + pass[99] + pass[100] + pass[101] + pass[102] + pass[103] + pass[104] + pass[105] + pass[106] + pass[107] + pass[108] + pass[109] + pass[110] + pass[111] + pass[112] + pass[113] + pass[114] + pass[115] + pass[116] + pass[117] + pass[118] + pass[119] + pass[120] + pass[121] + pass[122] + pass[123] + pass[124] + pass[125] + pass[126] + pass[127] + pass[128] + pass[129] + pass[130] + pass[131] + pass[132] + pass[133] + pass[134] + pass[135] + pass[136] + pass[137] + pass[138] + pass[139] + pass[140] + pass[141] + pass[142] + pass[143] + pass[144] + pass[145] + pass[146] + pass[147] + pass[148] + pass[149] + pass[150] + pass[151] + pass[152] + pass[153] + pass[154] + pass[155] + pass[156] + pass[157] + pass[158] + pass[159] + pass[160] + pass[161] + pass[162] + pass[163] + pass[164] + pass[165] + pass[166] + pass[167] + pass[168] + pass[169] + pass[170] + pass[171] + pass[172] + pass[173] + pass[174] + pass[175] + pass[176] + pass[177] + pass[178] + pass[179] + pass[180] + pass[181] + pass[182] + pass[183] + pass[184] + pass[185] + pass[186] + pass[187] + pass[188] + pass[189] + pass[190] + pass[191] + pass[192] + pass[193] + pass[194] + pass[195] + pass[196] + pass[197] + pass[198] + pass[199]"
      ]
     },
     "execution_count": 37,
     "metadata": {},
     "output_type": "execute_result"
    }
   ],
   "source": [
    "# Переменные, ограничения и целевая функция:\n",
    "@variable(model, pass[1:length(cntr)], Bin)\n",
    "@constraint(model, [j=1:length(cntr)], sum( vf[i,j]*pass[i] for i in 1:length(cntr)) >= 1)\n",
    "@objective(model, Min, sum(pass))"
   ]
  },
  {
   "cell_type": "code",
   "execution_count": 38,
   "metadata": {},
   "outputs": [
    {
     "data": {
      "text/plain": [
       "OPTIMAL::TerminationStatusCode = 1"
      ]
     },
     "execution_count": 38,
     "metadata": {},
     "output_type": "execute_result"
    }
   ],
   "source": [
    "# Вызов функции оптимизации:\n",
    "JuMP.optimize!(model)\n",
    "termination_status(model)"
   ]
  },
  {
   "cell_type": "code",
   "execution_count": 39,
   "metadata": {},
   "outputs": [
    {
     "name": "stdout",
     "output_type": "stream",
     "text": [
      "63.0 passports:Afghanistan, Andorra, Argentina, Australia, Azerbaijan, Bahrain, Brunei, Cambodia, Cameroon, Canada, Chile, Colombia, Comoros, DR Congo, Djibouti, Equatorial Guinea, Eritrea, Fiji, Gabon, Georgia, Guinea, Guinea-Bissau, Hong Kong, Hungary, Indonesia, Iraq, Ireland, Israel, Jamaica, Japan, Kuwait, Laos, Liberia, Libya, Macao, Madagascar, Malaysia, Maldives, Marshall Islands, Mauritania, Mauritius, Mongolia, Mozambique, Nauru, Nepal, New Zealand, North Korea, Palestine, Papua New Guinea, Qatar, Saudi Arabia, Solomon Islands, Somalia, South Sudan, Sri Lanka, Syria, Taiwan, Timor-Leste, Togo, Turkmenistan, United States, Uruguay, Vietnam"
     ]
    }
   ],
   "source": [
    "# Просмотр результата:\n",
    "print(JuMP.objective_value(model),\" passports:\",join(cntr[findall(JuMP.value.(pass) .== 1)],\", \"))"
   ]
  },
  {
   "cell_type": "markdown",
   "metadata": {},
   "source": [
    "8.2.5. Портфельные инвестиции"
   ]
  },
  {
   "cell_type": "code",
   "execution_count": 40,
   "metadata": {
    "scrolled": false
   },
   "outputs": [
    {
     "name": "stderr",
     "output_type": "stream",
     "text": [
      "\u001b[32m\u001b[1m  Resolving\u001b[22m\u001b[39m package versions...\n",
      "\u001b[32m\u001b[1mNo Changes\u001b[22m\u001b[39m to `C:\\Users\\Admin\\.julia\\environments\\v1.5\\Project.toml`\n",
      "\u001b[32m\u001b[1mNo Changes\u001b[22m\u001b[39m to `C:\\Users\\Admin\\.julia\\environments\\v1.5\\Manifest.toml`\n",
      "\u001b[32m\u001b[1m  Resolving\u001b[22m\u001b[39m package versions...\n",
      "\u001b[32m\u001b[1mNo Changes\u001b[22m\u001b[39m to `C:\\Users\\Admin\\.julia\\environments\\v1.5\\Project.toml`\n",
      "\u001b[32m\u001b[1mNo Changes\u001b[22m\u001b[39m to `C:\\Users\\Admin\\.julia\\environments\\v1.5\\Manifest.toml`\n",
      "\u001b[32m\u001b[1m  Resolving\u001b[22m\u001b[39m package versions...\n",
      "\u001b[32m\u001b[1mNo Changes\u001b[22m\u001b[39m to `C:\\Users\\Admin\\.julia\\environments\\v1.5\\Project.toml`\n",
      "\u001b[32m\u001b[1mNo Changes\u001b[22m\u001b[39m to `C:\\Users\\Admin\\.julia\\environments\\v1.5\\Manifest.toml`\n",
      "\u001b[32m\u001b[1m  Resolving\u001b[22m\u001b[39m package versions...\n",
      "\u001b[32m\u001b[1mNo Changes\u001b[22m\u001b[39m to `C:\\Users\\Admin\\.julia\\environments\\v1.5\\Project.toml`\n",
      "\u001b[32m\u001b[1mNo Changes\u001b[22m\u001b[39m to `C:\\Users\\Admin\\.julia\\environments\\v1.5\\Manifest.toml`\n",
      "\u001b[32m\u001b[1m  Resolving\u001b[22m\u001b[39m package versions...\n",
      "\u001b[32m\u001b[1mNo Changes\u001b[22m\u001b[39m to `C:\\Users\\Admin\\.julia\\environments\\v1.5\\Project.toml`\n",
      "\u001b[32m\u001b[1mNo Changes\u001b[22m\u001b[39m to `C:\\Users\\Admin\\.julia\\environments\\v1.5\\Manifest.toml`\n",
      "\u001b[32m\u001b[1m  Resolving\u001b[22m\u001b[39m package versions...\n",
      "\u001b[32m\u001b[1mNo Changes\u001b[22m\u001b[39m to `C:\\Users\\Admin\\.julia\\environments\\v1.5\\Project.toml`\n",
      "\u001b[32m\u001b[1mNo Changes\u001b[22m\u001b[39m to `C:\\Users\\Admin\\.julia\\environments\\v1.5\\Manifest.toml`\n",
      "\u001b[32m\u001b[1m  Resolving\u001b[22m\u001b[39m package versions...\n",
      "\u001b[32m\u001b[1mNo Changes\u001b[22m\u001b[39m to `C:\\Users\\Admin\\.julia\\environments\\v1.5\\Project.toml`\n",
      "\u001b[32m\u001b[1mNo Changes\u001b[22m\u001b[39m to `C:\\Users\\Admin\\.julia\\environments\\v1.5\\Manifest.toml`\n"
     ]
    }
   ],
   "source": [
    "# Подключение необходимых пакетов:\n",
    "import Pkg\n",
    "Pkg.add(\"DataFrames\")\n",
    "Pkg.add(\"XLSX\")\n",
    "Pkg.add(\"Plots\")\n",
    "Pkg.add(\"PyPlot\")\n",
    "Pkg.add(\"Convex\")\n",
    "Pkg.add(\"SCS\")\n",
    "Pkg.add(\"Statistics\")\n",
    "using DataFrames\n",
    "using XLSX\n",
    "using Plots\n",
    "pyplot()\n",
    "using Convex\n",
    "using SCS\n",
    "using Statistics"
   ]
  },
  {
   "cell_type": "code",
   "execution_count": 41,
   "metadata": {},
   "outputs": [
    {
     "data": {
      "text/html": [
       "<table class=\"data-frame\"><thead><tr><th></th><th>MSFT</th><th>FB</th><th>AAPL</th></tr><tr><th></th><th>Any</th><th>Any</th><th>Any</th></tr></thead><tbody><p>13 rows × 3 columns</p><tr><th>1</th><td>101.93</td><td>137.95</td><td>148.26</td></tr><tr><th>2</th><td>102.8</td><td>143.8</td><td>152.29</td></tr><tr><th>3</th><td>107.71</td><td>150.04</td><td>156.82</td></tr><tr><th>4</th><td>107.17</td><td>149.01</td><td>157.76</td></tr><tr><th>5</th><td>102.78</td><td>165.71</td><td>166.52</td></tr><tr><th>6</th><td>105.67</td><td>167.33</td><td>170.41</td></tr><tr><th>7</th><td>108.22</td><td>162.5</td><td>170.42</td></tr><tr><th>8</th><td>110.97</td><td>161.89</td><td>172.97</td></tr><tr><th>9</th><td>112.53</td><td>162.28</td><td>174.97</td></tr><tr><th>10</th><td>110.51</td><td>169.6</td><td>172.91</td></tr><tr><th>11</th><td>115.91</td><td>165.98</td><td>186.12</td></tr><tr><th>12</th><td>117.05</td><td>164.34</td><td>191.05</td></tr><tr><th>13</th><td>117.94</td><td>166.69</td><td>189.95</td></tr></tbody></table>"
      ],
      "text/latex": [
       "\\begin{tabular}{r|ccc}\n",
       "\t& MSFT & FB & AAPL\\\\\n",
       "\t\\hline\n",
       "\t& Any & Any & Any\\\\\n",
       "\t\\hline\n",
       "\t1 & 101.93 & 137.95 & 148.26 \\\\\n",
       "\t2 & 102.8 & 143.8 & 152.29 \\\\\n",
       "\t3 & 107.71 & 150.04 & 156.82 \\\\\n",
       "\t4 & 107.17 & 149.01 & 157.76 \\\\\n",
       "\t5 & 102.78 & 165.71 & 166.52 \\\\\n",
       "\t6 & 105.67 & 167.33 & 170.41 \\\\\n",
       "\t7 & 108.22 & 162.5 & 170.42 \\\\\n",
       "\t8 & 110.97 & 161.89 & 172.97 \\\\\n",
       "\t9 & 112.53 & 162.28 & 174.97 \\\\\n",
       "\t10 & 110.51 & 169.6 & 172.91 \\\\\n",
       "\t11 & 115.91 & 165.98 & 186.12 \\\\\n",
       "\t12 & 117.05 & 164.34 & 191.05 \\\\\n",
       "\t13 & 117.94 & 166.69 & 189.95 \\\\\n",
       "\\end{tabular}\n"
      ],
      "text/plain": [
       "13×3 DataFrame\n",
       "│ Row │ MSFT   │ FB     │ AAPL   │\n",
       "│     │ \u001b[90mAny\u001b[39m    │ \u001b[90mAny\u001b[39m    │ \u001b[90mAny\u001b[39m    │\n",
       "├─────┼────────┼────────┼────────┤\n",
       "│ 1   │ 101.93 │ 137.95 │ 148.26 │\n",
       "│ 2   │ 102.8  │ 143.8  │ 152.29 │\n",
       "│ 3   │ 107.71 │ 150.04 │ 156.82 │\n",
       "│ 4   │ 107.17 │ 149.01 │ 157.76 │\n",
       "│ 5   │ 102.78 │ 165.71 │ 166.52 │\n",
       "│ 6   │ 105.67 │ 167.33 │ 170.41 │\n",
       "│ 7   │ 108.22 │ 162.5  │ 170.42 │\n",
       "│ 8   │ 110.97 │ 161.89 │ 172.97 │\n",
       "│ 9   │ 112.53 │ 162.28 │ 174.97 │\n",
       "│ 10  │ 110.51 │ 169.6  │ 172.91 │\n",
       "│ 11  │ 115.91 │ 165.98 │ 186.12 │\n",
       "│ 12  │ 117.05 │ 164.34 │ 191.05 │\n",
       "│ 13  │ 117.94 │ 166.69 │ 189.95 │"
      ]
     },
     "execution_count": 41,
     "metadata": {},
     "output_type": "execute_result"
    }
   ],
   "source": [
    "# Считываем данные и размещаем их во фрейм:\n",
    "T = DataFrame(XLSX.readtable(\"stock_prices.xlsx\",\"Sheet2\")...)"
   ]
  },
  {
   "cell_type": "code",
   "execution_count": 42,
   "metadata": {},
   "outputs": [
    {
     "data": {
      "image/png": "[encoded data removed]"
     },
     "execution_count": 42,
     "metadata": {},
     "output_type": "execute_result"
    }
   ],
   "source": [
    "# Построение графика:\n",
    "plot(T[!,:MSFT],label=\"Microsoft\")\n",
    "plot!(T[!,:AAPL],label=\"Apple\")\n",
    "plot!(T[!,:FB],label=\"FB\")"
   ]
  },
  {
   "cell_type": "code",
   "execution_count": 43,
   "metadata": {},
   "outputs": [
    {
     "data": {
      "text/plain": [
       "13×3 Array{Any,2}:\n",
       " 101.93  137.95  148.26\n",
       " 102.8   143.8   152.29\n",
       " 107.71  150.04  156.82\n",
       " 107.17  149.01  157.76\n",
       " 102.78  165.71  166.52\n",
       " 105.67  167.33  170.41\n",
       " 108.22  162.5   170.42\n",
       " 110.97  161.89  172.97\n",
       " 112.53  162.28  174.97\n",
       " 110.51  169.6   172.91\n",
       " 115.91  165.98  186.12\n",
       " 117.05  164.34  191.05\n",
       " 117.94  166.69  189.95"
      ]
     },
     "execution_count": 43,
     "metadata": {},
     "output_type": "execute_result"
    }
   ],
   "source": [
    "# Данные о ценах на акции размещаем в матрице:\n",
    "prices_matrix = Matrix(T)"
   ]
  },
  {
   "cell_type": "code",
   "execution_count": 44,
   "metadata": {},
   "outputs": [
    {
     "data": {
      "text/plain": [
       "12×3 Array{Any,2}:\n",
       " 102.8   143.8   152.29\n",
       " 107.71  150.04  156.82\n",
       " 107.17  149.01  157.76\n",
       " 102.78  165.71  166.52\n",
       " 105.67  167.33  170.41\n",
       " 108.22  162.5   170.42\n",
       " 110.97  161.89  172.97\n",
       " 112.53  162.28  174.97\n",
       " 110.51  169.6   172.91\n",
       " 115.91  165.98  186.12\n",
       " 117.05  164.34  191.05\n",
       " 117.94  166.69  189.95"
      ]
     },
     "execution_count": 44,
     "metadata": {},
     "output_type": "execute_result"
    }
   ],
   "source": [
    "# Вычисление матрицы доходности за период времени:\n",
    "M1 = prices_matrix[1:end-1,:]\n",
    "M2 = prices_matrix[2:end,:]"
   ]
  },
  {
   "cell_type": "code",
   "execution_count": 45,
   "metadata": {},
   "outputs": [
    {
     "data": {
      "text/plain": [
       "12×3 Array{Float64,2}:\n",
       "  0.00853527   0.0424067    0.027182\n",
       "  0.0477626    0.0433936    0.0297459\n",
       " -0.00501346  -0.00686484   0.00599413\n",
       " -0.040963     0.112073     0.0555274\n",
       "  0.0281183    0.00977611   0.0233606\n",
       "  0.0241317   -0.0288651    5.8682e-5\n",
       "  0.0254112   -0.00375385   0.014963\n",
       "  0.0140579    0.00240904   0.0115627\n",
       " -0.0179508    0.0451072   -0.0117734\n",
       "  0.0488644   -0.0213443    0.0763981\n",
       "  0.00983522  -0.00988071   0.0264883\n",
       "  0.00760359   0.0142996   -0.00575766"
      ]
     },
     "execution_count": 45,
     "metadata": {},
     "output_type": "execute_result"
    }
   ],
   "source": [
    "# Матрица доходности:\n",
    "R = (M2.-M1)./M1"
   ]
  },
  {
   "cell_type": "code",
   "execution_count": 46,
   "metadata": {},
   "outputs": [
    {
     "data": {
      "text/plain": [
       "3×3 Array{Float64,2}:\n",
       "  0.000659383  -0.000630653  0.000139112\n",
       " -0.000630653   0.00152162   0.000192288\n",
       "  0.000139112   0.000192288  0.000635503"
      ]
     },
     "execution_count": 46,
     "metadata": {},
     "output_type": "execute_result"
    }
   ],
   "source": [
    "# Матрица рисков:\n",
    "risk_matrix = cov(R)"
   ]
  },
  {
   "cell_type": "code",
   "execution_count": 47,
   "metadata": {},
   "outputs": [
    {
     "data": {
      "text/plain": [
       "true"
      ]
     },
     "execution_count": 47,
     "metadata": {},
     "output_type": "execute_result"
    }
   ],
   "source": [
    "# Проверка положительной определённости матрицы рисков:\n",
    "isposdef(risk_matrix)"
   ]
  },
  {
   "cell_type": "code",
   "execution_count": 48,
   "metadata": {},
   "outputs": [
    {
     "data": {
      "text/plain": [
       "3-element Array{Float64,1}:\n",
       " 0.012532748705136572\n",
       " 0.016563036855293173\n",
       " 0.02114580465503291"
      ]
     },
     "execution_count": 48,
     "metadata": {},
     "output_type": "execute_result"
    }
   ],
   "source": [
    "# Доход от каждой из компаний:\n",
    "r = mean(R,dims=1)[:]"
   ]
  },
  {
   "cell_type": "code",
   "execution_count": 49,
   "metadata": {},
   "outputs": [
    {
     "data": {
      "text/plain": [
       "Variable\n",
       "size: (3, 1)\n",
       "sign: real\n",
       "vexity: affine\n",
       "id: 111…765"
      ]
     },
     "execution_count": 49,
     "metadata": {},
     "output_type": "execute_result"
    }
   ],
   "source": [
    "# Вектор инвестиций:\n",
    "x = Variable(length(r))"
   ]
  },
  {
   "cell_type": "code",
   "execution_count": 50,
   "metadata": {},
   "outputs": [
    {
     "data": {
      "text/plain": [
       "minimize\n",
       "└─ * (convex; positive)\n",
       "   ├─ 1\n",
       "   └─ qol_elem (convex; positive)\n",
       "      ├─ norm2 (convex; positive)\n",
       "      │  └─ …\n",
       "      └─ [1.0]\n",
       "subject to\n",
       "├─ == constraint (affine)\n",
       "│  ├─ sum (affine; real)\n",
       "│  │  └─ 3-element real variable (id: 111…765)\n",
       "│  └─ 1\n",
       "├─ >= constraint (affine)\n",
       "│  ├─ * (affine; real)\n",
       "│  │  ├─ [0.0125327 0.016563 0.0211458]\n",
       "│  │  └─ 3-element real variable (id: 111…765)\n",
       "│  └─ 0.02\n",
       "├─ >= constraint (affine)\n",
       "│  ├─ index (affine; real)\n",
       "│  │  └─ 3-element real variable (id: 111…765)\n",
       "│  └─ 0\n",
       "├─ >= constraint (affine)\n",
       "│  ├─ index (affine; real)\n",
       "│  │  └─ 3-element real variable (id: 111…765)\n",
       "│  └─ 0\n",
       "└─ >= constraint (affine)\n",
       "   ├─ index (affine; real)\n",
       "   │  └─ 3-element real variable (id: 111…765)\n",
       "   └─ 0\n",
       "\n",
       "status: `solve!` not called yet"
      ]
     },
     "execution_count": 50,
     "metadata": {},
     "output_type": "execute_result"
    }
   ],
   "source": [
    "# Объект модели:\n",
    "problem = minimize(Convex.quadform(x,risk_matrix),[sum(x)==1;r'*x>=0.02;x.>=0])"
   ]
  },
  {
   "cell_type": "code",
   "execution_count": 51,
   "metadata": {},
   "outputs": [
    {
     "name": "stdout",
     "output_type": "stream",
     "text": [
      "----------------------------------------------------------------------------\n",
      "\tSCS v2.1.2 - Splitting Conic Solver\n",
      "\t(c) Brendan O'Donoghue, Stanford University, 2012\n",
      "----------------------------------------------------------------------------\n",
      "Lin-sys: sparse-indirect, nnz in A = 24, CG tol ~ 1/iter^(2.00)\n",
      "eps = 1.00e-005, alpha = 1.50, max_iters = 5000, normalize = 1, scale = 1.00\n",
      "acceleration_lookback = 10, rho_x = 1.00e-003\n",
      "Variables n = 6, constraints m = 14\n",
      "Cones:\tprimal zero / dual free vars: 2\n",
      "\tlinear vars: 5\n",
      "\tsoc vars: 7, soc blks: 2\n",
      "Setup time: 4.75e-005s\n",
      "----------------------------------------------------------------------------\n",
      " Iter | pri res | dua res | rel gap | pri obj | dua obj | kap/tau | time (s)\n",
      "----------------------------------------------------------------------------\n",
      "     0|1.71e+019 2.86e+019 1.00e+000 -3.40e+019 5.17e+018 5.49e+019 1.99e-005 \n",
      "    97|4.78e-011 1.28e-010 1.08e-010 4.85e-004 4.85e-004 3.76e-017 3.34e-003 \n",
      "----------------------------------------------------------------------------\n",
      "Status: Solved\n",
      "Timing: Solve time: 3.35e-003s\n",
      "\tLin-sys: avg # CG iterations: 3.43, avg solve time: 6.04e-007s\n",
      "\tCones: avg projection time: 7.86e-008s\n",
      "\tAcceleration: avg step time: 3.27e-005s\n",
      "----------------------------------------------------------------------------\n",
      "Error metrics:\n",
      "dist(s, K) = 6.5489e-018, dist(y, K*) = 0.0000e+000, s'y/|s||y| = 1.6666e-017\n",
      "primal res: |Ax + s - b|_2 / (1 + |b|_2) = 4.7779e-011\n",
      "dual res:   |A'y + c|_2 / (1 + |c|_2) = 1.2839e-010\n",
      "rel gap:    |c'x + b'y| / (1 + |c'x| + |b'y|) = 1.0795e-010\n",
      "----------------------------------------------------------------------------\n",
      "c'x = 0.0005, -b'y = 0.0005\n",
      "============================================================================\n"
     ]
    }
   ],
   "source": [
    "# Находим решение:\n",
    "solve!(problem, SCS.Optimizer)"
   ]
  },
  {
   "cell_type": "code",
   "execution_count": 52,
   "metadata": {},
   "outputs": [
    {
     "data": {
      "text/plain": [
       "1.0000000000510323"
      ]
     },
     "execution_count": 52,
     "metadata": {},
     "output_type": "execute_result"
    }
   ],
   "source": [
    "#Проверяем выполнение условия\n",
    "sum(x.value)"
   ]
  },
  {
   "cell_type": "code",
   "execution_count": 53,
   "metadata": {},
   "outputs": [
    {
     "data": {
      "text/plain": [
       "1×1 LinearAlgebra.Adjoint{Float64,Array{Float64,1}}:\n",
       " 0.020000000000662013"
      ]
     },
     "execution_count": 53,
     "metadata": {},
     "output_type": "execute_result"
    }
   ],
   "source": [
    "#Проверяем выполнение условия на уровень доходности от 2%:\n",
    "r'*x.value"
   ]
  },
  {
   "cell_type": "code",
   "execution_count": 54,
   "metadata": {},
   "outputs": [
    {
     "data": {
      "text/plain": [
       "3×1 Array{Float64,2}:\n",
       "  67.95414742252918\n",
       " 122.30857118794069\n",
       " 809.7372814405625"
      ]
     },
     "execution_count": 54,
     "metadata": {},
     "output_type": "execute_result"
    }
   ],
   "source": [
    "#Переводим процентные значения компонент вектора инвестиций в фактические денежные единицы:\n",
    "x.value .* 1000"
   ]
  },
  {
   "cell_type": "markdown",
   "metadata": {},
   "source": [
    "8.2.6. Восстановление изображения"
   ]
  },
  {
   "cell_type": "code",
   "execution_count": 55,
   "metadata": {},
   "outputs": [
    {
     "name": "stderr",
     "output_type": "stream",
     "text": [
      "\u001b[32m\u001b[1m  Resolving\u001b[22m\u001b[39m package versions...\n",
      "\u001b[32m\u001b[1mNo Changes\u001b[22m\u001b[39m to `C:\\Users\\Admin\\.julia\\environments\\v1.5\\Project.toml`\n",
      "\u001b[32m\u001b[1mNo Changes\u001b[22m\u001b[39m to `C:\\Users\\Admin\\.julia\\environments\\v1.5\\Manifest.toml`\n",
      "\u001b[32m\u001b[1m  Resolving\u001b[22m\u001b[39m package versions...\n",
      "\u001b[32m\u001b[1mNo Changes\u001b[22m\u001b[39m to `C:\\Users\\Admin\\.julia\\environments\\v1.5\\Project.toml`\n",
      "\u001b[32m\u001b[1mNo Changes\u001b[22m\u001b[39m to `C:\\Users\\Admin\\.julia\\environments\\v1.5\\Manifest.toml`\n",
      "\u001b[32m\u001b[1m  Resolving\u001b[22m\u001b[39m package versions...\n",
      "\u001b[32m\u001b[1mNo Changes\u001b[22m\u001b[39m to `C:\\Users\\Admin\\.julia\\environments\\v1.5\\Project.toml`\n",
      "\u001b[32m\u001b[1mNo Changes\u001b[22m\u001b[39m to `C:\\Users\\Admin\\.julia\\environments\\v1.5\\Manifest.toml`\n"
     ]
    },
    {
     "ename": "LoadError",
     "evalue": "ArgumentError: Package Images not found in current path:\n- Run `import Pkg; Pkg.add(\"Images\")` to install the Images package.\n",
     "output_type": "error",
     "traceback": [
      "ArgumentError: Package Images not found in current path:\n- Run `import Pkg; Pkg.add(\"Images\")` to install the Images package.\n",
      "",
      "Stacktrace:",
      " [1] require(::Module, ::Symbol) at .\\loading.jl:893",
      " [2] include_string(::Function, ::Module, ::String, ::String) at .\\loading.jl:1091",
      " [3] execute_code(::String, ::String) at C:\\Users\\Admin\\.julia\\packages\\IJulia\\rWZ9e\\src\\execute_request.jl:27",
      " [4] execute_request(::ZMQ.Socket, ::IJulia.Msg) at C:\\Users\\Admin\\.julia\\packages\\IJulia\\rWZ9e\\src\\execute_request.jl:86",
      " [5] #invokelatest#1 at .\\essentials.jl:710 [inlined]",
      " [6] invokelatest at .\\essentials.jl:709 [inlined]",
      " [7] eventloop(::ZMQ.Socket) at C:\\Users\\Admin\\.julia\\packages\\IJulia\\rWZ9e\\src\\eventloop.jl:8",
      " [8] (::IJulia.var\"#15#18\")() at .\\task.jl:356"
     ]
    }
   ],
   "source": [
    "# Подключение необходимых пакетов:\n",
    "import Pkg\n",
    "Pkg.add(\"ImageMagick\")\n",
    "Pkg.add(\"Convex\")\n",
    "Pkg.add(\"SCS\")\n",
    "using Images\n",
    "using Convex\n",
    "using SCS"
   ]
  },
  {
   "cell_type": "code",
   "execution_count": 56,
   "metadata": {},
   "outputs": [
    {
     "ename": "LoadError",
     "evalue": "UndefVarError: load not defined",
     "output_type": "error",
     "traceback": [
      "UndefVarError: load not defined",
      "",
      "Stacktrace:",
      " [1] top-level scope at In[56]:2",
      " [2] include_string(::Function, ::Module, ::String, ::String) at .\\loading.jl:1091",
      " [3] execute_code(::String, ::String) at C:\\Users\\Admin\\.julia\\packages\\IJulia\\rWZ9e\\src\\execute_request.jl:27",
      " [4] execute_request(::ZMQ.Socket, ::IJulia.Msg) at C:\\Users\\Admin\\.julia\\packages\\IJulia\\rWZ9e\\src\\execute_request.jl:86",
      " [5] #invokelatest#1 at .\\essentials.jl:710 [inlined]",
      " [6] invokelatest at .\\essentials.jl:709 [inlined]",
      " [7] eventloop(::ZMQ.Socket) at C:\\Users\\Admin\\.julia\\packages\\IJulia\\rWZ9e\\src\\eventloop.jl:8",
      " [8] (::IJulia.var\"#15#18\")() at .\\task.jl:356"
     ]
    }
   ],
   "source": [
    "# Считывание исходного изображения:\n",
    "Kref = load(\"khiam-small.jpg\")"
   ]
  },
  {
   "cell_type": "code",
   "execution_count": 57,
   "metadata": {},
   "outputs": [
    {
     "ename": "LoadError",
     "evalue": "UndefVarError: Kref not defined",
     "output_type": "error",
     "traceback": [
      "UndefVarError: Kref not defined",
      "",
      "Stacktrace:",
      " [1] top-level scope at In[57]:2",
      " [2] include_string(::Function, ::Module, ::String, ::String) at .\\loading.jl:1091",
      " [3] execute_code(::String, ::String) at C:\\Users\\Admin\\.julia\\packages\\IJulia\\rWZ9e\\src\\execute_request.jl:27",
      " [4] execute_request(::ZMQ.Socket, ::IJulia.Msg) at C:\\Users\\Admin\\.julia\\packages\\IJulia\\rWZ9e\\src\\execute_request.jl:86",
      " [5] #invokelatest#1 at .\\essentials.jl:710 [inlined]",
      " [6] invokelatest at .\\essentials.jl:709 [inlined]",
      " [7] eventloop(::ZMQ.Socket) at C:\\Users\\Admin\\.julia\\packages\\IJulia\\rWZ9e\\src\\eventloop.jl:8",
      " [8] (::IJulia.var\"#15#18\")() at .\\task.jl:356"
     ]
    }
   ],
   "source": [
    "#Преобразуем изображение в оттенки серого и испортим некоторые пиксели:\n",
    "K = copy(Kref)\n",
    "p = prod(size(K))\n",
    "missingids = rand(1:p,400)\n",
    "K[missingids] .= RGBX{N0f8}(0.0,0.0,0.0)\n",
    "K\n",
    "Gray.(K)"
   ]
  },
  {
   "cell_type": "code",
   "execution_count": 58,
   "metadata": {},
   "outputs": [
    {
     "ename": "LoadError",
     "evalue": "UndefVarError: K not defined",
     "output_type": "error",
     "traceback": [
      "UndefVarError: K not defined",
      "",
      "Stacktrace:",
      " [1] top-level scope at In[58]:2",
      " [2] include_string(::Function, ::Module, ::String, ::String) at .\\loading.jl:1091",
      " [3] execute_code(::String, ::String) at C:\\Users\\Admin\\.julia\\packages\\IJulia\\rWZ9e\\src\\execute_request.jl:27",
      " [4] execute_request(::ZMQ.Socket, ::IJulia.Msg) at C:\\Users\\Admin\\.julia\\packages\\IJulia\\rWZ9e\\src\\execute_request.jl:86",
      " [5] #invokelatest#1 at .\\essentials.jl:710 [inlined]",
      " [6] invokelatest at .\\essentials.jl:709 [inlined]",
      " [7] eventloop(::ZMQ.Socket) at C:\\Users\\Admin\\.julia\\packages\\IJulia\\rWZ9e\\src\\eventloop.jl:8",
      " [8] (::IJulia.var\"#15#18\")() at .\\task.jl:356"
     ]
    }
   ],
   "source": [
    "# Матрица цветов:\n",
    "Y = Float64.(Gray.(K));"
   ]
  },
  {
   "cell_type": "code",
   "execution_count": 59,
   "metadata": {},
   "outputs": [
    {
     "ename": "LoadError",
     "evalue": "UndefVarError: Y not defined",
     "output_type": "error",
     "traceback": [
      "UndefVarError: Y not defined",
      "",
      "Stacktrace:",
      " [1] top-level scope at In[59]:2",
      " [2] include_string(::Function, ::Module, ::String, ::String) at .\\loading.jl:1091",
      " [3] execute_code(::String, ::String) at C:\\Users\\Admin\\.julia\\packages\\IJulia\\rWZ9e\\src\\execute_request.jl:27",
      " [4] execute_request(::ZMQ.Socket, ::IJulia.Msg) at C:\\Users\\Admin\\.julia\\packages\\IJulia\\rWZ9e\\src\\execute_request.jl:86",
      " [5] #invokelatest#1 at .\\essentials.jl:710 [inlined]",
      " [6] invokelatest at .\\essentials.jl:709 [inlined]",
      " [7] eventloop(::ZMQ.Socket) at C:\\Users\\Admin\\.julia\\packages\\IJulia\\rWZ9e\\src\\eventloop.jl:8",
      " [8] (::IJulia.var\"#15#18\")() at .\\task.jl:356"
     ]
    }
   ],
   "source": [
    "#матрицa 𝑋, в которой минимизируется норма ядра матрицы\n",
    "correctids = findall(Y[:].!=0)\n",
    "X = Convex.Variable(size(Y))\n",
    "problem = minimize(nuclearnorm(X))\n",
    "problem.constraints += X[correctids]==Y[correctids]"
   ]
  },
  {
   "cell_type": "code",
   "execution_count": 60,
   "metadata": {},
   "outputs": [
    {
     "name": "stdout",
     "output_type": "stream",
     "text": [
      "----------------------------------------------------------------------------\n",
      "\tSCS v2.1.2 - Splitting Conic Solver\n",
      "\t(c) Brendan O'Donoghue, Stanford University, 2012\n",
      "----------------------------------------------------------------------------\n",
      "Lin-sys: sparse-indirect, nnz in A = 24, CG tol ~ 1/iter^(2.00)\n",
      "eps = 1.00e-003, alpha = 1.50, max_iters = 5000, normalize = 1, scale = 1.00\n",
      "acceleration_lookback = 10, rho_x = 1.00e-003\n",
      "Variables n = 6, constraints m = 14\n",
      "Cones:\tprimal zero / dual free vars: 2\n",
      "\tlinear vars: 5\n",
      "\tsoc vars: 7, soc blks: 2\n",
      "Setup time: 3.98e-005s\n",
      "----------------------------------------------------------------------------\n",
      " Iter | pri res | dua res | rel gap | pri obj | dua obj | kap/tau | time (s)\n",
      "----------------------------------------------------------------------------\n",
      "     0|1.71e+019 2.86e+019 1.00e+000 -3.40e+019 5.17e+018 5.49e+019 2.18e-005 \n",
      "    80|2.04e-006 1.50e-004 1.31e-006 4.84e-004 4.85e-004 7.41e-017 4.02e-004 \n",
      "----------------------------------------------------------------------------\n",
      "Status: Solved\n",
      "Timing: Solve time: 4.03e-004s\n",
      "\tLin-sys: avg # CG iterations: 3.94, avg solve time: 7.36e-007s\n",
      "\tCones: avg projection time: 8.52e-008s\n",
      "\tAcceleration: avg step time: 3.39e-006s\n",
      "----------------------------------------------------------------------------\n",
      "Error metrics:\n",
      "dist(s, K) = 1.3491e-016, dist(y, K*) = 0.0000e+000, s'y/|s||y| = 6.5145e-017\n",
      "primal res: |Ax + s - b|_2 / (1 + |b|_2) = 2.0405e-006\n",
      "dual res:   |A'y + c|_2 / (1 + |c|_2) = 1.5009e-004\n",
      "rel gap:    |c'x + b'y| / (1 + |c'x| + |b'y|) = 1.3147e-006\n",
      "----------------------------------------------------------------------------\n",
      "c'x = 0.0005, -b'y = 0.0005\n",
      "============================================================================\n"
     ]
    }
   ],
   "source": [
    "# Находим решение:\n",
    "solve!(problem, SCS.Optimizer(eps=1e-3, alpha=1.5))"
   ]
  },
  {
   "cell_type": "code",
   "execution_count": 61,
   "metadata": {},
   "outputs": [
    {
     "ename": "LoadError",
     "evalue": "UndefVarError: Kref not defined",
     "output_type": "error",
     "traceback": [
      "UndefVarError: Kref not defined",
      "",
      "Stacktrace:",
      " [1] top-level scope at show.jl:641",
      " [2] include_string(::Function, ::Module, ::String, ::String) at .\\loading.jl:1091",
      " [3] execute_code(::String, ::String) at C:\\Users\\Admin\\.julia\\packages\\IJulia\\rWZ9e\\src\\execute_request.jl:27",
      " [4] execute_request(::ZMQ.Socket, ::IJulia.Msg) at C:\\Users\\Admin\\.julia\\packages\\IJulia\\rWZ9e\\src\\execute_request.jl:86",
      " [5] #invokelatest#1 at .\\essentials.jl:710 [inlined]",
      " [6] invokelatest at .\\essentials.jl:709 [inlined]",
      " [7] eventloop(::ZMQ.Socket) at C:\\Users\\Admin\\.julia\\packages\\IJulia\\rWZ9e\\src\\eventloop.jl:8",
      " [8] (::IJulia.var\"#15#18\")() at .\\task.jl:356"
     ]
    }
   ],
   "source": [
    "#Выводим значение нормы и исправленное изображение:\n",
    "@show norm(float.(Gray.(Kref))-X.value)\n",
    "@show norm(-X.value)\n",
    "colorview(Gray, X.value)"
   ]
  },
  {
   "cell_type": "code",
   "execution_count": null,
   "metadata": {},
   "outputs": [],
   "source": []
  },
  {
   "cell_type": "code",
   "execution_count": null,
   "metadata": {},
   "outputs": [],
   "source": []
  },
  {
   "cell_type": "code",
   "execution_count": null,
   "metadata": {},
   "outputs": [],
   "source": []
  }
 ],
 "metadata": {
  "kernelspec": {
   "display_name": "Julia 1.5.2",
   "language": "julia",
   "name": "julia-1.5"
  },
  "language_info": {
   "file_extension": ".jl",
   "mimetype": "application/julia",
   "name": "julia",
   "version": "1.5.2"
  }
 },
 "nbformat": 4,
 "nbformat_minor": 4
}
