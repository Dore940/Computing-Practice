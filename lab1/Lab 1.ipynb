{
 "cells": [
  {
   "cell_type": "code",
   "execution_count": 3,
   "id": "615ade09",
   "metadata": {},
   "outputs": [
    {
     "data": {
      "text/plain": [
       "5"
      ]
     },
     "execution_count": 3,
     "metadata": {},
     "output_type": "execute_result"
    }
   ],
   "source": [
    "2+3"
   ]
  },
  {
   "cell_type": "code",
   "execution_count": 4,
   "id": "9a25194a",
   "metadata": {},
   "outputs": [
    {
     "data": {
      "text/plain": [
       "3"
      ]
     },
     "execution_count": 4,
     "metadata": {},
     "output_type": "execute_result"
    }
   ],
   "source": [
    "3+4\n",
    "1+2"
   ]
  },
  {
   "cell_type": "code",
   "execution_count": 5,
   "id": "851ef2a1",
   "metadata": {},
   "outputs": [
    {
     "data": {
      "text/plain": [
       "9"
      ]
     },
     "execution_count": 5,
     "metadata": {},
     "output_type": "execute_result"
    }
   ],
   "source": [
    "3+5\n",
    "4+5"
   ]
  },
  {
   "cell_type": "code",
   "execution_count": 6,
   "id": "9f43ca98",
   "metadata": {},
   "outputs": [
    {
     "data": {
      "text/plain": [
       "(Int64, Float64, Float64, Complex{Float64}, Irrational{:π})"
      ]
     },
     "execution_count": 6,
     "metadata": {},
     "output_type": "execute_result"
    }
   ],
   "source": [
    "typeof(3), typeof(3.5), typeof(3/3.55), typeof(sqrt(3+4im)), typeof(pi)"
   ]
  },
  {
   "cell_type": "code",
   "execution_count": 7,
   "id": "264de92c",
   "metadata": {},
   "outputs": [
    {
     "data": {
      "text/plain": [
       "(Inf, -Inf, NaN)"
      ]
     },
     "execution_count": 7,
     "metadata": {},
     "output_type": "execute_result"
    }
   ],
   "source": [
    "1.0/0.0, 1.0/(-0.0), 0.0/0.0"
   ]
  },
  {
   "cell_type": "code",
   "execution_count": 8,
   "id": "d4f35369",
   "metadata": {},
   "outputs": [
    {
     "data": {
      "text/plain": [
       "(Float64, Float64, Float64)"
      ]
     },
     "execution_count": 8,
     "metadata": {},
     "output_type": "execute_result"
    }
   ],
   "source": [
    "typeof(1.0/0.0), typeof(1.0/0.0), typeof(0.0/0.0)"
   ]
  },
  {
   "cell_type": "code",
   "execution_count": 12,
   "id": "e35455f1",
   "metadata": {},
   "outputs": [
    {
     "name": "stdout",
     "output_type": "stream",
     "text": [
      "   Int8: [-128, 127]\n",
      "  Int16: [-32768, 32767]\n",
      "  Int32: [-2147483648, 2147483647]\n",
      "  Int64: [-9223372036854775808, 9223372036854775807]\n",
      " Int128: [-170141183460469231731687303715884105728, 170141183460469231731687303715884105727]\n",
      "  UInt8: [0, 255]\n",
      " UInt32: [0, 4294967295]\n",
      " UInt64: [0, 18446744073709551615]\n",
      "UInt128: [0, 340282366920938463463374607431768211455]\n"
     ]
    }
   ],
   "source": [
    "for T in [Int8, Int16, Int32, Int64, Int128, UInt8, UInt32, UInt64, UInt128]\n",
    "println(\"$(lpad(T,7)): [$(typemin(T)), $(typemax(T))]\")\n",
    "end"
   ]
  },
  {
   "cell_type": "code",
   "execution_count": 13,
   "id": "ebed5cb8",
   "metadata": {},
   "outputs": [
    {
     "data": {
      "text/plain": [
       "(2, '\\x02', Char)"
      ]
     },
     "execution_count": 13,
     "metadata": {},
     "output_type": "execute_result"
    }
   ],
   "source": [
    "Int64(2.0), Char(2), typeof(Char(2))"
   ]
  },
  {
   "cell_type": "code",
   "execution_count": 14,
   "id": "1a083c64",
   "metadata": {},
   "outputs": [
    {
     "data": {
      "text/plain": [
       "(2, '\\x02')"
      ]
     },
     "execution_count": 14,
     "metadata": {},
     "output_type": "execute_result"
    }
   ],
   "source": [
    "convert(Int64, 2.0), convert(Char, 2)"
   ]
  },
  {
   "cell_type": "code",
   "execution_count": 15,
   "id": "2fe0f036",
   "metadata": {},
   "outputs": [
    {
     "data": {
      "text/plain": [
       "(Tuple{Int8}, Float16(4.5), 4.1f0)"
      ]
     },
     "execution_count": 15,
     "metadata": {},
     "output_type": "execute_result"
    }
   ],
   "source": [
    "typeof(promote(Int8(1))), Float16(4.5), Float32(4.1)"
   ]
  },
  {
   "cell_type": "code",
   "execution_count": 16,
   "id": "e84b326d",
   "metadata": {},
   "outputs": [
    {
     "data": {
      "text/plain": [
       "f (generic function with 1 method)"
      ]
     },
     "execution_count": 16,
     "metadata": {},
     "output_type": "execute_result"
    }
   ],
   "source": [
    "function f(x)\n",
    "    x^2\n",
    "end"
   ]
  },
  {
   "cell_type": "code",
   "execution_count": 17,
   "id": "3b2d6769",
   "metadata": {},
   "outputs": [
    {
     "data": {
      "text/plain": [
       "16"
      ]
     },
     "execution_count": 17,
     "metadata": {},
     "output_type": "execute_result"
    }
   ],
   "source": [
    "f(4)"
   ]
  },
  {
   "cell_type": "code",
   "execution_count": 18,
   "id": "bd42a742",
   "metadata": {},
   "outputs": [
    {
     "data": {
      "text/plain": [
       "g (generic function with 1 method)"
      ]
     },
     "execution_count": 18,
     "metadata": {},
     "output_type": "execute_result"
    }
   ],
   "source": [
    "g(x)=x^2"
   ]
  },
  {
   "cell_type": "code",
   "execution_count": 19,
   "id": "09a3645f",
   "metadata": {},
   "outputs": [
    {
     "data": {
      "text/plain": [
       "64"
      ]
     },
     "execution_count": 19,
     "metadata": {},
     "output_type": "execute_result"
    }
   ],
   "source": [
    "g(8)"
   ]
  },
  {
   "cell_type": "code",
   "execution_count": 20,
   "id": "8578cfae",
   "metadata": {},
   "outputs": [
    {
     "data": {
      "text/plain": [
       "(7, 2)"
      ]
     },
     "execution_count": 20,
     "metadata": {},
     "output_type": "execute_result"
    }
   ],
   "source": [
    "a=[4 7 6] # вектор строка\n",
    "b=[1 2 3] # вектор-столбец\n",
    "a[2], b[2] #  вторые элементы векторов"
   ]
  },
  {
   "cell_type": "code",
   "execution_count": 22,
   "id": "67348988",
   "metadata": {},
   "outputs": [
    {
     "data": {
      "text/plain": [
       "2×2 Array{Int64,2}:\n",
       " 1  2\n",
       " 3  4"
      ]
     },
     "execution_count": 22,
     "metadata": {},
     "output_type": "execute_result"
    }
   ],
   "source": [
    "a = 1; b =2; c=3; d=4; #все присвоение значении\n",
    "Am =[a b ; c d ] # матрица 2 * 2"
   ]
  },
  {
   "cell_type": "code",
   "execution_count": 24,
   "id": "0bb59e75",
   "metadata": {},
   "outputs": [
    {
     "data": {
      "text/plain": [
       "(1, 2, 3, 4)"
      ]
     },
     "execution_count": 24,
     "metadata": {},
     "output_type": "execute_result"
    }
   ],
   "source": [
    "Am[1,1], Am[1,2], Am[2,1], Am[2,2] #Элементы матрицы Am"
   ]
  },
  {
   "cell_type": "code",
   "execution_count": 26,
   "id": "8920ee20",
   "metadata": {},
   "outputs": [
    {
     "data": {
      "text/plain": [
       "1×1 Array{Int64,2}:\n",
       " 27"
      ]
     },
     "execution_count": 26,
     "metadata": {},
     "output_type": "execute_result"
    }
   ],
   "source": [
    "aa = [1 2]\n",
    "AA= [1 2; 3 4]\n",
    "aa*AA*aa'"
   ]
  },
  {
   "cell_type": "code",
   "execution_count": 27,
   "id": "606c612d",
   "metadata": {},
   "outputs": [
    {
     "data": {
      "text/plain": [
       "([1 2], [1 2; 3 4], [1; 2])"
      ]
     },
     "execution_count": 27,
     "metadata": {},
     "output_type": "execute_result"
    }
   ],
   "source": [
    "aa , AA, aa'"
   ]
  },
  {
   "cell_type": "code",
   "execution_count": 31,
   "id": "7e65c7fd",
   "metadata": {},
   "outputs": [
    {
     "data": {
      "text/plain": [
       "20-element Array{UInt8,1}:\n",
       " 0x35\n",
       " 0x31\n",
       " 0x20\n",
       " 0x35\n",
       " 0x37\n",
       " 0x20\n",
       " 0x32\n",
       " 0x36\n",
       " 0x20\n",
       " 0x38\n",
       " 0x31\n",
       " 0x20\n",
       " 0x35\n",
       " 0x30\n",
       " 0x20\n",
       " 0x37\n",
       " 0x32\n",
       " 0x20\n",
       " 0x34\n",
       " 0x34"
      ]
     },
     "execution_count": 31,
     "metadata": {},
     "output_type": "execute_result"
    }
   ],
   "source": [
    "buffer = IOBuffer(\"51 57 26 81 50 72 44\")\n",
    "X=  read(buffer)\n",
    "X"
   ]
  },
  {
   "cell_type": "code",
   "execution_count": 42,
   "id": "721a9089",
   "metadata": {},
   "outputs": [
    {
     "ename": "LoadError",
     "evalue": "\u001b[91mUndefVarError: io not defined\u001b[39m",
     "output_type": "error",
     "traceback": [
      "\u001b[91mUndefVarError: io not defined\u001b[39m",
      "",
      "Stacktrace:",
      " [1] top-level scope at In[42]:2"
     ]
    }
   ],
   "source": [
    "#buffer =IOBuffer(\"518562\")\n",
    "#X1 = read(io, String)"
   ]
  },
  {
   "cell_type": "code",
   "execution_count": 46,
   "id": "f3d7362f",
   "metadata": {},
   "outputs": [
    {
     "data": {
      "text/plain": [
       "\"100 51 57 26 82 100 50 72 44\\n\""
      ]
     },
     "execution_count": 46,
     "metadata": {},
     "output_type": "execute_result"
    }
   ],
   "source": [
    "readline(\"file.txt\", keep=true)"
   ]
  },
  {
   "cell_type": "code",
   "execution_count": 49,
   "id": "332c170d",
   "metadata": {},
   "outputs": [
    {
     "name": "stdout",
     "output_type": "stream",
     "text": [
      "stdin> 595455552\n"
     ]
    },
    {
     "data": {
      "text/plain": [
       "\"595455552\""
      ]
     },
     "execution_count": 49,
     "metadata": {},
     "output_type": "execute_result"
    }
   ],
   "source": [
    "str = readline()\n",
    "str"
   ]
  },
  {
   "cell_type": "raw",
   "id": "97405a3e",
   "metadata": {},
   "source": [
    "STR = readlines(\"file.txt\"), keep=true)"
   ]
  },
  {
   "cell_type": "code",
   "execution_count": 51,
   "id": "16d4aabc",
   "metadata": {},
   "outputs": [
    {
     "name": "stdout",
     "output_type": "stream",
     "text": [
      "UInt8[0x35, 0x31, 0x20, 0x35, 0x37, 0x20, 0x32, 0x36, 0x20, 0x38, 0x31, 0x20, 0x35, 0x30, 0x20, 0x37, 0x32, 0x20, 0x34, 0x34]"
     ]
    }
   ],
   "source": [
    "print(X)"
   ]
  },
  {
   "cell_type": "code",
   "execution_count": 53,
   "id": "c95d76fb",
   "metadata": {},
   "outputs": [
    {
     "name": "stdout",
     "output_type": "stream",
     "text": [
      "UInt8[0x35, 0x31, 0x20, 0x35, 0x37, 0x20, 0x32, 0x36, 0x20, 0x38, 0x31, 0x20, 0x35, 0x30, 0x20, 0x37, 0x32, 0x20, 0x34, 0x34]\n",
      "595455552\n"
     ]
    }
   ],
   "source": [
    "println(X)\n",
    "println(str)"
   ]
  },
  {
   "cell_type": "code",
   "execution_count": 54,
   "id": "f5701aa2",
   "metadata": {},
   "outputs": [
    {
     "name": "stdout",
     "output_type": "stream",
     "text": [
      "UInt8[0x35, 0x31, 0x20, 0x35, 0x37, 0x20, 0x32, 0x36, 0x20, 0x38, 0x31, 0x20, 0x35, 0x30, 0x20, 0x37, 0x32, 0x20, 0x34, 0x34]"
     ]
    }
   ],
   "source": [
    "show(X)"
   ]
  },
  {
   "cell_type": "code",
   "execution_count": 57,
   "id": "c3104195",
   "metadata": {},
   "outputs": [
    {
     "data": {
      "text/plain": [
       "20"
      ]
     },
     "execution_count": 57,
     "metadata": {},
     "output_type": "execute_result"
    }
   ],
   "source": [
    "io = open(\"wfile.txt\", \"w\")\n",
    "write(io, X)"
   ]
  },
  {
   "cell_type": "code",
   "execution_count": 58,
   "id": "5c6fe461",
   "metadata": {},
   "outputs": [
    {
     "data": {
      "text/plain": [
       "595455552"
      ]
     },
     "execution_count": 58,
     "metadata": {},
     "output_type": "execute_result"
    }
   ],
   "source": [
    "a = parse(Int64, str)"
   ]
  },
  {
   "cell_type": "code",
   "execution_count": 60,
   "id": "9d73e7ce",
   "metadata": {},
   "outputs": [
    {
     "data": {
      "text/plain": [
       "Int64"
      ]
     },
     "execution_count": 60,
     "metadata": {},
     "output_type": "execute_result"
    }
   ],
   "source": [
    "a = parse(Int, \"5957442474\")\n",
    "typeof(a)"
   ]
  },
  {
   "cell_type": "code",
   "execution_count": 61,
   "id": "0528eb1a",
   "metadata": {},
   "outputs": [
    {
     "data": {
      "text/plain": [
       "431452657426"
      ]
     },
     "execution_count": 61,
     "metadata": {},
     "output_type": "execute_result"
    }
   ],
   "source": [
    "a = parse( Int, \"6474951712\", base= 16)"
   ]
  },
  {
   "cell_type": "code",
   "execution_count": 63,
   "id": "d21a1289",
   "metadata": {},
   "outputs": [
    {
     "data": {
      "text/plain": [
       "32.15f0"
      ]
     },
     "execution_count": 63,
     "metadata": {},
     "output_type": "execute_result"
    }
   ],
   "source": [
    "a = parse( Float32, \"32.15\")"
   ]
  },
  {
   "cell_type": "code",
   "execution_count": 64,
   "id": "55f252fd",
   "metadata": {},
   "outputs": [
    {
     "data": {
      "text/plain": [
       "86"
      ]
     },
     "execution_count": 64,
     "metadata": {},
     "output_type": "execute_result"
    }
   ],
   "source": [
    "60+26"
   ]
  },
  {
   "cell_type": "code",
   "execution_count": 65,
   "id": "cdef8a63",
   "metadata": {},
   "outputs": [
    {
     "data": {
      "text/plain": [
       "-8"
      ]
     },
     "execution_count": 65,
     "metadata": {},
     "output_type": "execute_result"
    }
   ],
   "source": [
    "54-62"
   ]
  },
  {
   "cell_type": "code",
   "execution_count": 66,
   "id": "c2b8c659",
   "metadata": {},
   "outputs": [
    {
     "data": {
      "text/plain": [
       "185"
      ]
     },
     "execution_count": 66,
     "metadata": {},
     "output_type": "execute_result"
    }
   ],
   "source": [
    "*(37,5)"
   ]
  },
  {
   "cell_type": "code",
   "execution_count": 67,
   "id": "97d84d13",
   "metadata": {},
   "outputs": [
    {
     "data": {
      "text/plain": [
       "4.0"
      ]
     },
     "execution_count": 67,
     "metadata": {},
     "output_type": "execute_result"
    }
   ],
   "source": [
    "16/4"
   ]
  },
  {
   "cell_type": "code",
   "execution_count": 68,
   "id": "5fb66990",
   "metadata": {},
   "outputs": [
    {
     "data": {
      "text/plain": [
       "65536"
      ]
     },
     "execution_count": 68,
     "metadata": {},
     "output_type": "execute_result"
    }
   ],
   "source": [
    "4^8"
   ]
  },
  {
   "cell_type": "code",
   "execution_count": 69,
   "id": "82a7dfc6",
   "metadata": {},
   "outputs": [
    {
     "data": {
      "text/plain": [
       "0.3333333333333333"
      ]
     },
     "execution_count": 69,
     "metadata": {},
     "output_type": "execute_result"
    }
   ],
   "source": [
    "inv(3)"
   ]
  },
  {
   "cell_type": "code",
   "execution_count": 70,
   "id": "2f5c6370",
   "metadata": {},
   "outputs": [
    {
     "data": {
      "text/plain": [
       "16"
      ]
     },
     "execution_count": 70,
     "metadata": {},
     "output_type": "execute_result"
    }
   ],
   "source": [
    "div(96,6)"
   ]
  },
  {
   "cell_type": "code",
   "execution_count": 71,
   "id": "de7bddf4",
   "metadata": {},
   "outputs": [
    {
     "data": {
      "text/plain": [
       "0"
      ]
     },
     "execution_count": 71,
     "metadata": {},
     "output_type": "execute_result"
    }
   ],
   "source": [
    "mod(96,6)"
   ]
  },
  {
   "cell_type": "code",
   "execution_count": 72,
   "id": "c5e53b42",
   "metadata": {},
   "outputs": [
    {
     "data": {
      "text/plain": [
       "false"
      ]
     },
     "execution_count": 72,
     "metadata": {},
     "output_type": "execute_result"
    }
   ],
   "source": [
    "10.0 ==11"
   ]
  },
  {
   "cell_type": "code",
   "execution_count": 73,
   "id": "c1542bfb",
   "metadata": {},
   "outputs": [
    {
     "data": {
      "text/plain": [
       "true"
      ]
     },
     "execution_count": 73,
     "metadata": {},
     "output_type": "execute_result"
    }
   ],
   "source": [
    "8!=7"
   ]
  },
  {
   "cell_type": "code",
   "execution_count": 74,
   "id": "459cc93a",
   "metadata": {},
   "outputs": [
    {
     "data": {
      "text/plain": [
       "true"
      ]
     },
     "execution_count": 74,
     "metadata": {},
     "output_type": "execute_result"
    }
   ],
   "source": [
    "12>4"
   ]
  },
  {
   "cell_type": "code",
   "execution_count": 75,
   "id": "fe21e91a",
   "metadata": {},
   "outputs": [
    {
     "data": {
      "text/plain": [
       "false"
      ]
     },
     "execution_count": 75,
     "metadata": {},
     "output_type": "execute_result"
    }
   ],
   "source": [
    "27<21"
   ]
  },
  {
   "cell_type": "code",
   "execution_count": 76,
   "id": "ce78b46a",
   "metadata": {},
   "outputs": [
    {
     "data": {
      "text/plain": [
       "-16"
      ]
     },
     "execution_count": 76,
     "metadata": {},
     "output_type": "execute_result"
    }
   ],
   "source": [
    "~(15)"
   ]
  },
  {
   "cell_type": "code",
   "execution_count": 77,
   "id": "0bc81383",
   "metadata": {},
   "outputs": [
    {
     "data": {
      "text/plain": [
       "true"
      ]
     },
     "execution_count": 77,
     "metadata": {},
     "output_type": "execute_result"
    }
   ],
   "source": [
    "(8<10)|| (15<8)"
   ]
  },
  {
   "cell_type": "code",
   "execution_count": 78,
   "id": "2040c465",
   "metadata": {},
   "outputs": [
    {
     "data": {
      "text/plain": [
       "false"
      ]
     },
     "execution_count": 78,
     "metadata": {},
     "output_type": "execute_result"
    }
   ],
   "source": [
    "!(true)"
   ]
  },
  {
   "cell_type": "code",
   "execution_count": 79,
   "id": "7386cbd9",
   "metadata": {},
   "outputs": [
    {
     "data": {
      "text/plain": [
       "1.6197751905438615"
      ]
     },
     "execution_count": 79,
     "metadata": {},
     "output_type": "execute_result"
    }
   ],
   "source": [
    "tan(45)"
   ]
  },
  {
   "cell_type": "code",
   "execution_count": 80,
   "id": "10fa6f01",
   "metadata": {},
   "outputs": [
    {
     "data": {
      "text/plain": [
       "148.4131591025766"
      ]
     },
     "execution_count": 80,
     "metadata": {},
     "output_type": "execute_result"
    }
   ],
   "source": [
    "exp(5)"
   ]
  },
  {
   "cell_type": "code",
   "execution_count": 81,
   "id": "d25de4e6",
   "metadata": {},
   "outputs": [
    {
     "data": {
      "text/plain": [
       "32.0"
      ]
     },
     "execution_count": 81,
     "metadata": {},
     "output_type": "execute_result"
    }
   ],
   "source": [
    "exp2(5)"
   ]
  },
  {
   "cell_type": "code",
   "execution_count": 84,
   "id": "dc58c6ec",
   "metadata": {},
   "outputs": [
    {
     "name": "stdout",
     "output_type": "stream",
     "text": [
      "[40 27 9; 10 11 18; 9 11 13]\n",
      "[20 21 1; 2 1 6; -3 -3 -3]\n",
      "[426 245 304; 156 132 156; 76 64 76]\n",
      "[30 6 3; 24 6 4; 5 12 5]\n"
     ]
    }
   ],
   "source": [
    "M1 = [30 24 5; 6 6 12; 3 4 5]\n",
    "M2 = [10 3 4; 4 5 6; 6 7 8 ]\n",
    "\n",
    "println(M1+M2)\n",
    "println(M1-M2)\n",
    "println(M1*M2)\n",
    "println(M1')"
   ]
  },
  {
   "cell_type": "code",
   "execution_count": null,
   "id": "cbdf2ba4",
   "metadata": {},
   "outputs": [],
   "source": []
  }
 ],
 "metadata": {
  "kernelspec": {
   "display_name": "Julia 1.5.0",
   "language": "julia",
   "name": "julia-1.5"
  },
  "language_info": {
   "file_extension": ".jl",
   "mimetype": "application/julia",
   "name": "julia",
   "version": "1.5.0"
  }
 },
 "nbformat": 4,
 "nbformat_minor": 5
}
