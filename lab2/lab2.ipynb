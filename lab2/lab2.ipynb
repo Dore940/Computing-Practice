{
 "cells": [
  {
   "cell_type": "code",
   "execution_count": 1,
   "metadata": {},
   "outputs": [
    {
     "data": {
      "text/plain": [
       "(false, false)"
      ]
     },
     "execution_count": 1,
     "metadata": {},
     "output_type": "execute_result"
    }
   ],
   "source": [
    "#Кортеж из элементов типа String\n",
    "favoritelang = (\"Python\", \"Julia\", \"R\")\n",
    "x1 = (1, 2, 3 )\n",
    "x2 = (1, 2.0 , \" tmp\")\n",
    "x3 = (a=2, b=1+2)\n",
    "\n",
    "#Длина кортежа\n",
    "length(x2)\n",
    "x2[1], x2[2], x2[3]\n",
    "c= x1[2] + x1[3]\n",
    "x3.a , x3.b, x3[2]\n",
    "\n",
    "in(\"tmp\", x2), 0 in x2"
   ]
  },
  {
   "cell_type": "code",
   "execution_count": 3,
   "metadata": {},
   "outputs": [
    {
     "data": {
      "text/plain": [
       "3"
      ]
     },
     "execution_count": 3,
     "metadata": {},
     "output_type": "execute_result"
    }
   ],
   "source": [
    "#Примеры операций над кортежами:\n",
    "# длина кортежа x2:\n",
    "length(x2)"
   ]
  },
  {
   "cell_type": "code",
   "execution_count": 4,
   "metadata": {},
   "outputs": [
    {
     "data": {
      "text/plain": [
       "(1, 2.0, \"tmp\")"
      ]
     },
     "execution_count": 4,
     "metadata": {},
     "output_type": "execute_result"
    }
   ],
   "source": [
    "# обратиться к элементам кортежа x2:\n",
    "x2[1], x2[2], x2[3]"
   ]
  },
  {
   "cell_type": "code",
   "execution_count": 5,
   "metadata": {},
   "outputs": [
    {
     "data": {
      "text/plain": [
       "5"
      ]
     },
     "execution_count": 5,
     "metadata": {},
     "output_type": "execute_result"
    }
   ],
   "source": [
    "# произвести какую-либо операцию (сложение)\n",
    "# с вторым и третьим элементами кортежа x1:\n",
    "с = x1[2] + x1[3]"
   ]
  },
  {
   "cell_type": "code",
   "execution_count": 6,
   "metadata": {},
   "outputs": [
    {
     "data": {
      "text/plain": [
       "(2, 3, 3)"
      ]
     },
     "execution_count": 6,
     "metadata": {},
     "output_type": "execute_result"
    }
   ],
   "source": [
    "# обращение к элементам именованного кортежа x3:\n",
    "x3.a, x3.b, x3[2]"
   ]
  },
  {
   "cell_type": "code",
   "execution_count": 7,
   "metadata": {},
   "outputs": [
    {
     "data": {
      "text/plain": [
       "(true, false)"
      ]
     },
     "execution_count": 7,
     "metadata": {},
     "output_type": "execute_result"
    }
   ],
   "source": [
    "# проверка вхождения элементов tmp и 0 в кортеж x2\n",
    "# (два способа обращения к методу in()):\n",
    "in(\"tmp\", x2), 0 in x2"
   ]
  },
  {
   "cell_type": "code",
   "execution_count": 8,
   "metadata": {},
   "outputs": [
    {
     "data": {
      "text/plain": [
       "Base.KeySet for a Dict{String,Any} with 2 entries. Keys:\n",
       "  \"Бухгалтерия\"\n",
       "  \"Иванов И.И.\""
      ]
     },
     "execution_count": 8,
     "metadata": {},
     "output_type": "execute_result"
    }
   ],
   "source": [
    "# создать словарь с именем phonebook:\n",
    "phonebook = Dict(\"Иванов И.И.\" => (\"867-5309\",\"333-5544\"), \"Бухгалтерия\" => \"555-2368\")\n",
    "# вывести ключи словаря:\n",
    "keys(phonebook)"
   ]
  },
  {
   "cell_type": "code",
   "execution_count": 9,
   "metadata": {},
   "outputs": [
    {
     "data": {
      "text/plain": [
       "Base.ValueIterator for a Dict{String,Any} with 2 entries. Values:\n",
       "  \"555-2368\"\n",
       "  (\"867-5309\", \"333-5544\")"
      ]
     },
     "execution_count": 9,
     "metadata": {},
     "output_type": "execute_result"
    }
   ],
   "source": [
    "# вывести значения элементов словаря:\n",
    "values(phonebook)"
   ]
  },
  {
   "cell_type": "code",
   "execution_count": 10,
   "metadata": {},
   "outputs": [
    {
     "data": {
      "text/plain": [
       "Dict{String,Any} with 2 entries:\n",
       "  \"Бухгалтерия\" => \"555-2368\"\n",
       "  \"Иванов И.И.\" => (\"867-5309\", \"333-5544\")"
      ]
     },
     "execution_count": 10,
     "metadata": {},
     "output_type": "execute_result"
    }
   ],
   "source": [
    "# вывести заданные в словаре пары \"ключ - значение\":\n",
    "pairs(phonebook)"
   ]
  },
  {
   "cell_type": "code",
   "execution_count": 11,
   "metadata": {},
   "outputs": [
    {
     "data": {
      "text/plain": [
       "true"
      ]
     },
     "execution_count": 11,
     "metadata": {},
     "output_type": "execute_result"
    }
   ],
   "source": [
    "# проверка вхождения ключа в словарь:\n",
    "haskey(phonebook, \"Иванов И.И.\")"
   ]
  },
  {
   "cell_type": "code",
   "execution_count": 12,
   "metadata": {},
   "outputs": [
    {
     "data": {
      "text/plain": [
       "\"555-3344\""
      ]
     },
     "execution_count": 12,
     "metadata": {},
     "output_type": "execute_result"
    }
   ],
   "source": [
    "# добавить элемент в словарь:\n",
    "phonebook[\"Сидоров П.С.\"] = \"555-3344\""
   ]
  },
  {
   "cell_type": "code",
   "execution_count": 14,
   "metadata": {},
   "outputs": [
    {
     "data": {
      "text/plain": [
       "(\"867-5309\", \"333-5544\")"
      ]
     },
     "execution_count": 14,
     "metadata": {},
     "output_type": "execute_result"
    }
   ],
   "source": [
    "# удалить ключ и связанные с ним значения из словаря\n",
    "pop!(phonebook, \"Иванов И.И.\")"
   ]
  },
  {
   "cell_type": "code",
   "execution_count": 15,
   "metadata": {},
   "outputs": [
    {
     "data": {
      "text/plain": [
       "(Dict{String,Real}(\"bar\" => 13.0,\"baz\" => 17,\"foo\" => 0.0), Dict{String,Real}(\"bar\" => 42.0,\"baz\" => 17,\"foo\" => 0.0))"
      ]
     },
     "execution_count": 15,
     "metadata": {},
     "output_type": "execute_result"
    }
   ],
   "source": [
    "# Объединение словарей (функция merge()):\n",
    "a = Dict(\"foo\" => 0.0, \"bar\" => 42.0);\n",
    "b = Dict(\"baz\" => 17, \"bar\" => 13.0);\n",
    "merge(a, b), merge(b,a)"
   ]
  },
  {
   "cell_type": "code",
   "execution_count": 16,
   "metadata": {},
   "outputs": [
    {
     "data": {
      "text/plain": [
       "false"
      ]
     },
     "execution_count": 16,
     "metadata": {},
     "output_type": "execute_result"
    }
   ],
   "source": [
    "# создать множество из четырёх целочисленных значений:\n",
    "A = Set([1, 3, 4, 5])\n",
    "# создать множество из 11 символьных значений:\n",
    "B = Set(\"abrakadabra\")\n",
    "# проверка эквивалентности двух множеств:\n",
    "S1 = Set([1,2]);\n",
    "S2 = Set([3,4]);\n",
    "issetequal(S1,S2)"
   ]
  },
  {
   "cell_type": "code",
   "execution_count": 17,
   "metadata": {},
   "outputs": [
    {
     "data": {
      "text/plain": [
       "true"
      ]
     },
     "execution_count": 17,
     "metadata": {},
     "output_type": "execute_result"
    }
   ],
   "source": [
    "S3 = Set([1,2,2,3,1,2,3,2,1]);\n",
    "S4 = Set([2,3,1]);\n",
    "issetequal(S3,S4)"
   ]
  },
  {
   "cell_type": "code",
   "execution_count": 18,
   "metadata": {},
   "outputs": [
    {
     "data": {
      "text/plain": [
       "Set{Int64} with 4 elements:\n",
       "  4\n",
       "  2\n",
       "  3\n",
       "  1"
      ]
     },
     "execution_count": 18,
     "metadata": {},
     "output_type": "execute_result"
    }
   ],
   "source": [
    "# объединение множеств:\n",
    "C=union(S1,S2)"
   ]
  },
  {
   "cell_type": "code",
   "execution_count": 19,
   "metadata": {},
   "outputs": [
    {
     "data": {
      "text/plain": [
       "Set{Int64} with 2 elements:\n",
       "  2\n",
       "  1"
      ]
     },
     "execution_count": 19,
     "metadata": {},
     "output_type": "execute_result"
    }
   ],
   "source": [
    "# пересечение множеств:\n",
    "D = intersect(S1,S3)"
   ]
  },
  {
   "cell_type": "code",
   "execution_count": 20,
   "metadata": {},
   "outputs": [
    {
     "data": {
      "text/plain": [
       "Set{Int64} with 1 element:\n",
       "  3"
      ]
     },
     "execution_count": 20,
     "metadata": {},
     "output_type": "execute_result"
    }
   ],
   "source": [
    "# разность множеств:\n",
    "E = setdiff(S3,S1)"
   ]
  },
  {
   "cell_type": "code",
   "execution_count": 21,
   "metadata": {},
   "outputs": [
    {
     "data": {
      "text/plain": [
       "true"
      ]
     },
     "execution_count": 21,
     "metadata": {},
     "output_type": "execute_result"
    }
   ],
   "source": [
    "# проверка вхождения элементов одного множества в другое:\n",
    "issubset(S1,S4)"
   ]
  },
  {
   "cell_type": "code",
   "execution_count": 22,
   "metadata": {},
   "outputs": [
    {
     "data": {
      "text/plain": [
       "2"
      ]
     },
     "execution_count": 22,
     "metadata": {},
     "output_type": "execute_result"
    }
   ],
   "source": [
    "# добавление элемента в множество:\n",
    "push!(S4, 99)\n",
    "# удаление последнего элемента множества:\n",
    "pop!(S4)"
   ]
  },
  {
   "cell_type": "code",
   "execution_count": 28,
   "metadata": {},
   "outputs": [
    {
     "data": {
      "text/plain": [
       "3×3 Array{Int64,2}:\n",
       " 1  2  3\n",
       " 4  5  6\n",
       " 7  8  9"
      ]
     },
     "execution_count": 28,
     "metadata": {},
     "output_type": "execute_result"
    }
   ],
   "source": [
    "# создание пустого массива с абстрактным типом:\n",
    "empty_array_1 = []\n",
    "# вектор-столбец:\n",
    "a = [1, 2, 3]\n",
    "# вектор-строка:\n",
    "b = [1 2 3]\n",
    "# многомерные массивы (матрицы):\n",
    "A = [[1, 2, 3] [4, 5, 6] [7, 8, 9]]\n",
    "B = [[1 2 3]; [4 5 6]; [7 8 9]]"
   ]
  },
  {
   "cell_type": "code",
   "execution_count": 29,
   "metadata": {},
   "outputs": [
    {
     "data": {
      "text/plain": [
       "1×8 Array{Float64,2}:\n",
       " 0.944048  0.601037  0.954965  0.359763  …  0.585821  0.36182  0.0915807"
      ]
     },
     "execution_count": 29,
     "metadata": {},
     "output_type": "execute_result"
    }
   ],
   "source": [
    "# одномерный массив из 8 элементов (массив $1 \\times 8$)\n",
    "# со значениями, случайно распределёнными на интервале [0, 1):\n",
    "c = rand(1,8)"
   ]
  },
  {
   "cell_type": "code",
   "execution_count": 33,
   "metadata": {},
   "outputs": [
    {
     "data": {
      "text/plain": [
       "2×3 Array{Float64,2}:\n",
       " 0.826433  0.461196  0.899106\n",
       " 0.154855  0.346251  0.295687"
      ]
     },
     "execution_count": 33,
     "metadata": {},
     "output_type": "execute_result"
    }
   ],
   "source": [
    "# многомерный массив $2 \\times 3$ (2 строки, 3 столбца) элементов\n",
    "# со значениями, случайно распределёнными на интервале [0, 1):\n",
    "C = rand(2,3)"
   ]
  },
  {
   "cell_type": "code",
   "execution_count": 32,
   "metadata": {},
   "outputs": [
    {
     "data": {
      "text/plain": [
       "4×3×2 Array{Float64,3}:\n",
       "[:, :, 1] =\n",
       " 0.429819   0.301406  0.00514119\n",
       " 0.0793302  0.627647  0.878831\n",
       " 0.630654   0.165663  0.433177\n",
       " 0.932676   0.883069  0.325384\n",
       "\n",
       "[:, :, 2] =\n",
       " 0.679334  0.0930755  0.687508\n",
       " 0.859722  0.46839    0.47003\n",
       " 0.781023  0.0968937  0.759207\n",
       " 0.432809  0.600891   0.166625"
      ]
     },
     "execution_count": 32,
     "metadata": {},
     "output_type": "execute_result"
    }
   ],
   "source": [
    "# трёхмерный массив:\n",
    "D = rand(4, 3, 2)"
   ]
  },
  {
   "cell_type": "code",
   "execution_count": 34,
   "metadata": {},
   "outputs": [
    {
     "data": {
      "text/plain": [
       "5-element Array{Int64,1}:\n",
       "   3\n",
       "  27\n",
       "  75\n",
       " 147\n",
       " 243"
      ]
     },
     "execution_count": 34,
     "metadata": {},
     "output_type": "execute_result"
    }
   ],
   "source": [
    "#Примеры массивов, заданных некоторыми функциями через включение:\n",
    "# массив из квадратных корней всех целых чисел от 1 до 10:\n",
    "roots = [sqrt(i) for i in 1:10]\n",
    "# массив с элементами вида 3*x^2,\n",
    "# где x - нечётное число от 1 до 9 (включительно)\n",
    "ar_1 = [3*i^2 for i in 1:2:9]"
   ]
  },
  {
   "cell_type": "code",
   "execution_count": 35,
   "metadata": {},
   "outputs": [
    {
     "data": {
      "text/plain": [
       "10-element Array{Float64,1}:\n",
       " 1.0\n",
       " 1.4142135623730951\n",
       " 1.7320508075688772\n",
       " 2.0\n",
       " 2.23606797749979\n",
       " 2.449489742783178\n",
       " 2.6457513110645907\n",
       " 2.8284271247461903\n",
       " 3.0\n",
       " 3.1622776601683795"
      ]
     },
     "execution_count": 35,
     "metadata": {},
     "output_type": "execute_result"
    }
   ],
   "source": [
    "#Примеры массивов, заданных некоторыми функциями через включение:\n",
    "# массив из квадратных корней всех целых чисел от 1 до 10:\n",
    "roots = [sqrt(i) for i in 1:10]"
   ]
  },
  {
   "cell_type": "code",
   "execution_count": 36,
   "metadata": {},
   "outputs": [
    {
     "data": {
      "text/plain": [
       "5-element Array{Int64,1}:\n",
       "   3\n",
       "  27\n",
       "  75\n",
       " 147\n",
       " 243"
      ]
     },
     "execution_count": 36,
     "metadata": {},
     "output_type": "execute_result"
    }
   ],
   "source": [
    "# массив с элементами вида 3*x^2,\n",
    "# где x - нечётное число от 1 до 9 (включительно)\n",
    "ar_1 = [3*i^2 for i in 1:2:9]"
   ]
  },
  {
   "cell_type": "code",
   "execution_count": 37,
   "metadata": {},
   "outputs": [
    {
     "data": {
      "text/plain": [
       "4-element Array{Int64,1}:\n",
       "  1\n",
       "  9\n",
       " 49\n",
       " 81"
      ]
     },
     "execution_count": 37,
     "metadata": {},
     "output_type": "execute_result"
    }
   ],
   "source": [
    "# массив квадратов элементов, если квадрат не делится на 5 или 4:\n",
    "ar_2=[i^2 for i=1:10 if (i^2%5!=0 && i^2%4!=0)]"
   ]
  },
  {
   "cell_type": "code",
   "execution_count": 38,
   "metadata": {},
   "outputs": [
    {
     "data": {
      "text/plain": [
       "5-element Array{Float64,1}:\n",
       " 1.0\n",
       " 1.0\n",
       " 1.0\n",
       " 1.0\n",
       " 1.0"
      ]
     },
     "execution_count": 38,
     "metadata": {},
     "output_type": "execute_result"
    }
   ],
   "source": [
    "# одномерный массив из пяти единиц:\n",
    "ones(5)"
   ]
  },
  {
   "cell_type": "code",
   "execution_count": 39,
   "metadata": {},
   "outputs": [
    {
     "data": {
      "text/plain": [
       "2×3 Array{Float64,2}:\n",
       " 1.0  1.0  1.0\n",
       " 1.0  1.0  1.0"
      ]
     },
     "execution_count": 39,
     "metadata": {},
     "output_type": "execute_result"
    }
   ],
   "source": [
    "# двумерный массив 2x3 из единиц:\n",
    "ones(2,3)"
   ]
  },
  {
   "cell_type": "code",
   "execution_count": 40,
   "metadata": {},
   "outputs": [
    {
     "data": {
      "text/plain": [
       "4-element Array{Float64,1}:\n",
       " 0.0\n",
       " 0.0\n",
       " 0.0\n",
       " 0.0"
      ]
     },
     "execution_count": 40,
     "metadata": {},
     "output_type": "execute_result"
    }
   ],
   "source": [
    "# одномерный массив из 4 нулей:\n",
    "zeros(4)"
   ]
  },
  {
   "cell_type": "code",
   "execution_count": 41,
   "metadata": {},
   "outputs": [
    {
     "data": {
      "text/plain": [
       "3×2 Array{Float64,2}:\n",
       " 3.5  3.5\n",
       " 3.5  3.5\n",
       " 3.5  3.5"
      ]
     },
     "execution_count": 41,
     "metadata": {},
     "output_type": "execute_result"
    }
   ],
   "source": [
    "# заполнить массив 3x2 цифрами 3.5\n",
    "fill(3.5,(3,2))"
   ]
  },
  {
   "cell_type": "code",
   "execution_count": 42,
   "metadata": {},
   "outputs": [
    {
     "data": {
      "text/plain": [
       "3×6 Array{Int64,2}:\n",
       " 1  2  1  2  1  2\n",
       " 1  2  1  2  1  2\n",
       " 1  2  1  2  1  2"
      ]
     },
     "execution_count": 42,
     "metadata": {},
     "output_type": "execute_result"
    }
   ],
   "source": [
    "# заполнение массива посредством функции repeat():\n",
    "repeat([1,2],3,3)\n",
    "repeat([1 2],3,3)"
   ]
  },
  {
   "cell_type": "code",
   "execution_count": 43,
   "metadata": {},
   "outputs": [
    {
     "data": {
      "text/plain": [
       "2×6 Array{Int64,2}:\n",
       " 1  3  5  7   9  11\n",
       " 2  4  6  8  10  12"
      ]
     },
     "execution_count": 43,
     "metadata": {},
     "output_type": "execute_result"
    }
   ],
   "source": [
    "# преобразование одномерного массива из целых чисел от 1 до 12\n",
    "# в двумерный массив 2x6\n",
    "a = collect(1:12)\n",
    "b = reshape(a,(2,6))"
   ]
  },
  {
   "cell_type": "code",
   "execution_count": 44,
   "metadata": {},
   "outputs": [
    {
     "data": {
      "text/plain": [
       "6×2 LinearAlgebra.Transpose{Int64,Array{Int64,2}}:\n",
       "  1   2\n",
       "  3   4\n",
       "  5   6\n",
       "  7   8\n",
       "  9  10\n",
       " 11  12"
      ]
     },
     "execution_count": 44,
     "metadata": {},
     "output_type": "execute_result"
    }
   ],
   "source": [
    "# транспонирование\n",
    "b'\n",
    "# транспонирование\n",
    "с = transpose(b)"
   ]
  },
  {
   "cell_type": "code",
   "execution_count": 45,
   "metadata": {},
   "outputs": [
    {
     "data": {
      "text/plain": [
       "10×5 Array{Int64,2}:\n",
       " 19  18  20  19  13\n",
       " 15  10  16  16  10\n",
       " 19  18  10  14  15\n",
       " 19  11  12  14  11\n",
       " 19  10  16  20  14\n",
       " 16  11  20  11  12\n",
       " 11  18  15  16  14\n",
       " 16  10  13  10  12\n",
       " 17  18  20  14  20\n",
       " 13  11  20  19  15"
      ]
     },
     "execution_count": 45,
     "metadata": {},
     "output_type": "execute_result"
    }
   ],
   "source": [
    "# массив 10x5 целых чисел в диапазоне [10, 20]:\n",
    "ar = rand(10:20, 10, 5)"
   ]
  },
  {
   "cell_type": "code",
   "execution_count": 46,
   "metadata": {},
   "outputs": [
    {
     "data": {
      "text/plain": [
       "10-element Array{Int64,1}:\n",
       " 18\n",
       " 10\n",
       " 18\n",
       " 11\n",
       " 10\n",
       " 11\n",
       " 18\n",
       " 10\n",
       " 18\n",
       " 11"
      ]
     },
     "execution_count": 46,
     "metadata": {},
     "output_type": "execute_result"
    }
   ],
   "source": [
    "# выбор всех значений строки в столбце 2:\n",
    "ar[:, 2]"
   ]
  },
  {
   "cell_type": "code",
   "execution_count": 47,
   "metadata": {},
   "outputs": [
    {
     "data": {
      "text/plain": [
       "10×2 Array{Int64,2}:\n",
       " 18  13\n",
       " 10  10\n",
       " 18  15\n",
       " 11  11\n",
       " 10  14\n",
       " 11  12\n",
       " 18  14\n",
       " 10  12\n",
       " 18  20\n",
       " 11  15"
      ]
     },
     "execution_count": 47,
     "metadata": {},
     "output_type": "execute_result"
    }
   ],
   "source": [
    "# выбор всех значений в столбцах 2 и 5:\n",
    "ar[:, [2, 5]]"
   ]
  },
  {
   "cell_type": "code",
   "execution_count": 48,
   "metadata": {},
   "outputs": [
    {
     "data": {
      "text/plain": [
       "10×3 Array{Int64,2}:\n",
       " 18  20  19\n",
       " 10  16  16\n",
       " 18  10  14\n",
       " 11  12  14\n",
       " 10  16  20\n",
       " 11  20  11\n",
       " 18  15  16\n",
       " 10  13  10\n",
       " 18  20  14\n",
       " 11  20  19"
      ]
     },
     "execution_count": 48,
     "metadata": {},
     "output_type": "execute_result"
    }
   ],
   "source": [
    "# все значения строк в столбцах 2, 3 и 4:\n",
    "ar[:, 2:4]"
   ]
  },
  {
   "cell_type": "code",
   "execution_count": 49,
   "metadata": {},
   "outputs": [
    {
     "data": {
      "text/plain": [
       "3×2 Array{Int64,2}:\n",
       " 15  10\n",
       " 19  11\n",
       " 16  12"
      ]
     },
     "execution_count": 49,
     "metadata": {},
     "output_type": "execute_result"
    }
   ],
   "source": [
    "# значения в строках 2, 4, 6 и в столбцах 1 и 5:\n",
    "ar[[2, 4, 6], [1, 5]]"
   ]
  },
  {
   "cell_type": "code",
   "execution_count": 50,
   "metadata": {},
   "outputs": [
    {
     "data": {
      "text/plain": [
       "3-element Array{Int64,1}:\n",
       " 20\n",
       " 19\n",
       " 13"
      ]
     },
     "execution_count": 50,
     "metadata": {},
     "output_type": "execute_result"
    }
   ],
   "source": [
    "# значения в строке 1 от столбца 3 до последнего столбца:\n",
    "ar[1, 3:end]"
   ]
  },
  {
   "cell_type": "code",
   "execution_count": 51,
   "metadata": {},
   "outputs": [
    {
     "data": {
      "text/plain": [
       "10×5 Array{Int64,2}:\n",
       " 11  10  10  10  10\n",
       " 13  10  12  11  11\n",
       " 15  10  13  14  12\n",
       " 16  11  15  14  12\n",
       " 16  11  16  14  13\n",
       " 17  11  16  16  14\n",
       " 19  18  20  16  14\n",
       " 19  18  20  19  15\n",
       " 19  18  20  19  15\n",
       " 19  18  20  20  20"
      ]
     },
     "execution_count": 51,
     "metadata": {},
     "output_type": "execute_result"
    }
   ],
   "source": [
    "# сортировка по строкам:\n",
    "sort(ar,dims=1)"
   ]
  },
  {
   "cell_type": "code",
   "execution_count": 52,
   "metadata": {},
   "outputs": [
    {
     "data": {
      "text/plain": [
       "10×5 Array{Int64,2}:\n",
       " 13  18  19  19  20\n",
       " 10  10  15  16  16\n",
       " 10  14  15  18  19\n",
       " 11  11  12  14  19\n",
       " 10  14  16  19  20\n",
       " 11  11  12  16  20\n",
       " 11  14  15  16  18\n",
       " 10  10  12  13  16\n",
       " 14  17  18  20  20\n",
       " 11  13  15  19  20"
      ]
     },
     "execution_count": 52,
     "metadata": {},
     "output_type": "execute_result"
    }
   ],
   "source": [
    "# сортировка по столбцам:\n",
    "sort(ar,dims=2)"
   ]
  },
  {
   "cell_type": "code",
   "execution_count": 53,
   "metadata": {},
   "outputs": [
    {
     "data": {
      "text/plain": [
       "10×5 BitArray{2}:\n",
       " 1  1  1  1  0\n",
       " 1  0  1  1  0\n",
       " 1  1  0  0  1\n",
       " 1  0  0  0  0\n",
       " 1  0  1  1  0\n",
       " 1  0  1  0  0\n",
       " 0  1  1  1  0\n",
       " 1  0  0  0  0\n",
       " 1  1  1  0  1\n",
       " 0  0  1  1  1"
      ]
     },
     "execution_count": 53,
     "metadata": {},
     "output_type": "execute_result"
    }
   ],
   "source": [
    "# поэлементное сравнение с числом\n",
    "# (результат - массив логических значений):\n",
    "ar .> 14"
   ]
  },
  {
   "cell_type": "code",
   "execution_count": 54,
   "metadata": {},
   "outputs": [
    {
     "data": {
      "text/plain": [
       "27-element Array{CartesianIndex{2},1}:\n",
       " CartesianIndex(1, 1)\n",
       " CartesianIndex(2, 1)\n",
       " CartesianIndex(3, 1)\n",
       " CartesianIndex(4, 1)\n",
       " CartesianIndex(5, 1)\n",
       " CartesianIndex(6, 1)\n",
       " CartesianIndex(8, 1)\n",
       " CartesianIndex(9, 1)\n",
       " CartesianIndex(1, 2)\n",
       " CartesianIndex(3, 2)\n",
       " CartesianIndex(7, 2)\n",
       " CartesianIndex(9, 2)\n",
       " CartesianIndex(1, 3)\n",
       " ⋮\n",
       " CartesianIndex(6, 3)\n",
       " CartesianIndex(7, 3)\n",
       " CartesianIndex(9, 3)\n",
       " CartesianIndex(10, 3)\n",
       " CartesianIndex(1, 4)\n",
       " CartesianIndex(2, 4)\n",
       " CartesianIndex(5, 4)\n",
       " CartesianIndex(7, 4)\n",
       " CartesianIndex(10, 4)\n",
       " CartesianIndex(3, 5)\n",
       " CartesianIndex(9, 5)\n",
       " CartesianIndex(10, 5)"
      ]
     },
     "execution_count": 54,
     "metadata": {},
     "output_type": "execute_result"
    }
   ],
   "source": [
    "# возврат индексов элементов массива, удовлетворяющих условию:\n",
    "findall(ar .> 14)"
   ]
  },
  {
   "cell_type": "code",
   "execution_count": 55,
   "metadata": {},
   "outputs": [
    {
     "data": {
      "text/plain": [
       "Set{Int64} with 4 elements:\n",
       "  0\n",
       "  4\n",
       "  9\n",
       "  3"
      ]
     },
     "execution_count": 55,
     "metadata": {},
     "output_type": "execute_result"
    }
   ],
   "source": [
    "#Даны множества: 𝐴 = {0, 3, 4, 9}, 𝐵 = {1, 3, 4, 7}, 𝐶 = {0, 1, 2, 4, 7, 8, 9}. Найти 𝑃 = 𝐴 ∩ 𝐵 ∪ 𝐴 ∩ 𝐵 ∪ 𝐴 ∩ 𝐶 ∪ 𝐵 ∩ 𝐶.\n",
    "A=Set([0, 3, 4, 9])\n",
    "B=Set([1, 3, 4, 7])\n",
    "C=Set([0, 1, 2, 4, 7, 8, 9])\n",
    "P=intersect(A,B)\n",
    "P=union(P,A)\n",
    "P=intersect(P,B)\n",
    "P=union(P,A)\n",
    "P=intersect(P,C)\n",
    "P=union(P,B)\n",
    "P=intersect(P,C)\n",
    "A"
   ]
  },
  {
   "cell_type": "code",
   "execution_count": 56,
   "metadata": {},
   "outputs": [
    {
     "data": {
      "text/plain": [
       "10-element Array{Float64,1}:\n",
       "  1.0\n",
       "  2.0\n",
       "  3.0\n",
       "  4.0\n",
       "  5.0\n",
       "  6.0\n",
       "  7.0\n",
       "  8.0\n",
       "  9.0\n",
       " 10.0"
      ]
     },
     "execution_count": 56,
     "metadata": {},
     "output_type": "execute_result"
    }
   ],
   "source": [
    "#Приведите свои примеры с выполнением операций над множествами элементов разных типов.\n",
    "push!(A, 5)\n",
    "pop!(A)\n",
    "P1=setdiff(A, P)\n",
    "a=fill(0.0,10)\n",
    "a1=rand(3,5)\n",
    "a2=collect(1:1:10.0)"
   ]
  },
  {
   "cell_type": "code",
   "execution_count": 60,
   "metadata": {},
   "outputs": [
    {
     "data": {
      "text/plain": [
       "30-element Array{Int64,1}:\n",
       "  1\n",
       "  2\n",
       "  3\n",
       "  4\n",
       "  5\n",
       "  6\n",
       "  7\n",
       "  8\n",
       "  9\n",
       " 10\n",
       " 11\n",
       " 12\n",
       " 13\n",
       "  ⋮\n",
       " 19\n",
       " 20\n",
       " 21\n",
       " 22\n",
       " 23\n",
       " 24\n",
       " 25\n",
       " 26\n",
       " 27\n",
       " 28\n",
       " 29\n",
       " 30"
      ]
     },
     "execution_count": 60,
     "metadata": {},
     "output_type": "execute_result"
    }
   ],
   "source": [
    "N=30\n",
    "#массив (1, 2, 3, … 𝑁 − 1, 𝑁 )\n",
    "A1 = [ i for i in 1:N]"
   ]
  },
  {
   "cell_type": "code",
   "execution_count": 61,
   "metadata": {},
   "outputs": [
    {
     "data": {
      "text/plain": [
       "30-element Array{Int64,1}:\n",
       " 30\n",
       " 29\n",
       " 28\n",
       " 27\n",
       " 26\n",
       " 25\n",
       " 24\n",
       " 23\n",
       " 22\n",
       " 21\n",
       " 20\n",
       " 19\n",
       " 18\n",
       "  ⋮\n",
       " 12\n",
       " 11\n",
       " 10\n",
       "  9\n",
       "  8\n",
       "  7\n",
       "  6\n",
       "  5\n",
       "  4\n",
       "  3\n",
       "  2\n",
       "  1"
      ]
     },
     "execution_count": 61,
     "metadata": {},
     "output_type": "execute_result"
    }
   ],
   "source": [
    "#массив (𝑁, 𝑁 − 1 … , 2, 1)\n",
    "A2 = [N-i for i in 0:N-1 ]"
   ]
  },
  {
   "cell_type": "code",
   "execution_count": 62,
   "metadata": {},
   "outputs": [
    {
     "data": {
      "text/plain": [
       "60-element Array{Int64,1}:\n",
       "  1\n",
       "  2\n",
       "  3\n",
       "  4\n",
       "  5\n",
       "  6\n",
       "  7\n",
       "  8\n",
       "  9\n",
       " 10\n",
       " 11\n",
       " 12\n",
       " 13\n",
       "  ⋮\n",
       " 12\n",
       " 11\n",
       " 10\n",
       "  9\n",
       "  8\n",
       "  7\n",
       "  6\n",
       "  5\n",
       "  4\n",
       "  3\n",
       "  2\n",
       "  1"
      ]
     },
     "execution_count": 62,
     "metadata": {},
     "output_type": "execute_result"
    }
   ],
   "source": [
    "#массив (1, 2, 3, … , 𝑁 − 1, 𝑁, 𝑁 − 1, … , 2, 1)\n",
    "A3 = vcat(A1,A2)"
   ]
  },
  {
   "cell_type": "code",
   "execution_count": 63,
   "metadata": {},
   "outputs": [
    {
     "data": {
      "text/plain": [
       "3-element Array{Int64,1}:\n",
       " 4\n",
       " 6\n",
       " 3"
      ]
     },
     "execution_count": 63,
     "metadata": {},
     "output_type": "execute_result"
    }
   ],
   "source": [
    "#массив с именем tmp вида (4, 6, 3)\n",
    "tmp = [4, 6 ,3]"
   ]
  },
  {
   "cell_type": "code",
   "execution_count": 64,
   "metadata": {},
   "outputs": [
    {
     "data": {
      "text/plain": [
       "10-element Array{Int64,1}:\n",
       " 4\n",
       " 4\n",
       " 4\n",
       " 4\n",
       " 4\n",
       " 4\n",
       " 4\n",
       " 4\n",
       " 4\n",
       " 4"
      ]
     },
     "execution_count": 64,
     "metadata": {},
     "output_type": "execute_result"
    }
   ],
   "source": [
    "#массив, в котором первый элемент массива tmp повторяется 10 раз;\n",
    "tmp1 = repeat([tmp[1]], 10)"
   ]
  },
  {
   "cell_type": "code",
   "execution_count": 65,
   "metadata": {},
   "outputs": [
    {
     "data": {
      "text/plain": [
       "30-element Array{Int64,1}:\n",
       " 4\n",
       " 6\n",
       " 3\n",
       " 4\n",
       " 6\n",
       " 3\n",
       " 4\n",
       " 6\n",
       " 3\n",
       " 4\n",
       " 6\n",
       " 3\n",
       " 4\n",
       " ⋮\n",
       " 4\n",
       " 6\n",
       " 3\n",
       " 4\n",
       " 6\n",
       " 3\n",
       " 4\n",
       " 6\n",
       " 3\n",
       " 4\n",
       " 6\n",
       " 3"
      ]
     },
     "execution_count": 65,
     "metadata": {},
     "output_type": "execute_result"
    }
   ],
   "source": [
    "#массив, в котором все элементы массива tmp повторяются 10 раз;\n",
    "tmp2 =repeat(tmp, 10)"
   ]
  },
  {
   "cell_type": "code",
   "execution_count": 66,
   "metadata": {},
   "outputs": [
    {
     "data": {
      "text/plain": [
       "31-element Array{Int64,1}:\n",
       " 4\n",
       " 4\n",
       " 4\n",
       " 4\n",
       " 4\n",
       " 4\n",
       " 4\n",
       " 4\n",
       " 4\n",
       " 4\n",
       " 4\n",
       " 6\n",
       " 6\n",
       " ⋮\n",
       " 6\n",
       " 6\n",
       " 3\n",
       " 3\n",
       " 3\n",
       " 3\n",
       " 3\n",
       " 3\n",
       " 3\n",
       " 3\n",
       " 3\n",
       " 3"
      ]
     },
     "execution_count": 66,
     "metadata": {},
     "output_type": "execute_result"
    }
   ],
   "source": [
    "#массив, в котором первый элемент массива tmp встречается 11 раз, второй элемент — 10 раз, третий элемент — 10 раз;\n",
    "tmp3 = vcat(repeat([tmp[1]], 11), repeat([tmp[2]], 10), repeat([tmp[3]], 10))"
   ]
  },
  {
   "cell_type": "code",
   "execution_count": 67,
   "metadata": {},
   "outputs": [
    {
     "data": {
      "text/plain": [
       "60-element Array{Int64,1}:\n",
       " 4\n",
       " 4\n",
       " 4\n",
       " 4\n",
       " 4\n",
       " 4\n",
       " 4\n",
       " 4\n",
       " 4\n",
       " 4\n",
       " 6\n",
       " 6\n",
       " 6\n",
       " ⋮\n",
       " 3\n",
       " 3\n",
       " 3\n",
       " 3\n",
       " 3\n",
       " 3\n",
       " 3\n",
       " 3\n",
       " 3\n",
       " 3\n",
       " 3\n",
       " 3"
      ]
     },
     "execution_count": 67,
     "metadata": {},
     "output_type": "execute_result"
    }
   ],
   "source": [
    "#массив, в котором первый элемент массива tmp встречается 10 раз подряд, второй элемент — 20 раз подряд, третий элемент — 30 раз подряд;\n",
    "tmp4 = vcat(repeat([tmp[1]], 10), repeat([tmp[2]], 20), repeat([tmp[3]], 30))"
   ]
  },
  {
   "cell_type": "code",
   "execution_count": 68,
   "metadata": {},
   "outputs": [
    {
     "data": {
      "text/plain": [
       "12-element Array{Int64,1}:\n",
       " 16\n",
       " 64\n",
       "  8\n",
       " 16\n",
       " 64\n",
       "  8\n",
       " 16\n",
       " 64\n",
       "  8\n",
       " 16\n",
       " 64\n",
       "  8"
      ]
     },
     "execution_count": 68,
     "metadata": {},
     "output_type": "execute_result"
    }
   ],
   "source": [
    "#массив из элементов вида 2^𝑡𝑚𝑝[𝑖]\n",
    "tmp5 = repeat([2^tmp[i] for i in 1:3], 4)"
   ]
  },
  {
   "cell_type": "code",
   "execution_count": 69,
   "metadata": {},
   "outputs": [
    {
     "data": {
      "text/plain": [
       "53.11374594642971"
      ]
     },
     "execution_count": 69,
     "metadata": {},
     "output_type": "execute_result"
    }
   ],
   "source": [
    "#вектор значений 𝑦 = 𝑒^𝑥 * cos(𝑥)\n",
    "tmp6=[y=exp(x)*cos(x) for x = 3.0:0.1:6]\n",
    "using Statistics\n",
    "mean(tmp6)"
   ]
  },
  {
   "cell_type": "code",
   "execution_count": 70,
   "metadata": {},
   "outputs": [
    {
     "data": {
      "text/plain": [
       "144-element Array{Array{Float64,1},1}:\n",
       " [0.0010000000000000002, 0.2]\n",
       " [0.0010000000000000002, 0.0016000000000000007]\n",
       " [0.0010000000000000002, 1.2800000000000005e-5]\n",
       " [0.0010000000000000002, 1.0240000000000006e-7]\n",
       " [0.0010000000000000002, 8.192000000000006e-10]\n",
       " [0.0010000000000000002, 6.5536000000000055e-12]\n",
       " [0.0010000000000000002, 5.2428800000000056e-14]\n",
       " [0.0010000000000000002, 4.194304000000005e-16]\n",
       " [0.0010000000000000002, 3.3554432000000048e-18]\n",
       " [0.0010000000000000002, 2.684354560000004e-20]\n",
       " [0.0010000000000000002, 2.1474836480000035e-22]\n",
       " [0.0010000000000000002, 1.717986918400003e-24]\n",
       " [1.0000000000000004e-6, 0.2]\n",
       " ⋮\n",
       " [1.000000000000002e-36, 0.2]\n",
       " [1.000000000000002e-36, 0.0016000000000000007]\n",
       " [1.000000000000002e-36, 1.2800000000000005e-5]\n",
       " [1.000000000000002e-36, 1.0240000000000006e-7]\n",
       " [1.000000000000002e-36, 8.192000000000006e-10]\n",
       " [1.000000000000002e-36, 6.5536000000000055e-12]\n",
       " [1.000000000000002e-36, 5.2428800000000056e-14]\n",
       " [1.000000000000002e-36, 4.194304000000005e-16]\n",
       " [1.000000000000002e-36, 3.3554432000000048e-18]\n",
       " [1.000000000000002e-36, 2.684354560000004e-20]\n",
       " [1.000000000000002e-36, 2.1474836480000035e-22]\n",
       " [1.000000000000002e-36, 1.717986918400003e-24]"
      ]
     },
     "execution_count": 70,
     "metadata": {},
     "output_type": "execute_result"
    }
   ],
   "source": [
    "#вектор вида (𝑥^𝑖, 𝑦^𝑗), 𝑥 = 0.1, 𝑖 = 3, 6, 9, … , 36, 𝑦 = 0.2, 𝑗 = 1, 4, 7, … , 34;\n",
    "A4=[ [0.1^i, 0.2^j]  for i = 3:3:36 for j=1:3:34]"
   ]
  },
  {
   "cell_type": "code",
   "execution_count": 71,
   "metadata": {},
   "outputs": [
    {
     "data": {
      "text/plain": [
       "25-element Array{Float64,1}:\n",
       "      2.0\n",
       "      2.0\n",
       "      2.6666666666666665\n",
       "      4.0\n",
       "      6.4\n",
       "     10.666666666666666\n",
       "     18.285714285714285\n",
       "     32.0\n",
       "     56.888888888888886\n",
       "    102.4\n",
       "    186.1818181818182\n",
       "    341.3333333333333\n",
       "    630.1538461538462\n",
       "   1170.2857142857142\n",
       "   2184.5333333333333\n",
       "   4096.0\n",
       "   7710.117647058823\n",
       "  14563.555555555555\n",
       "  27594.105263157893\n",
       "  52428.8\n",
       "  99864.38095238095\n",
       " 190650.18181818182\n",
       " 364722.0869565217\n",
       " 699050.6666666666\n",
       "      1.34217728e6"
      ]
     },
     "execution_count": 71,
     "metadata": {},
     "output_type": "execute_result"
    }
   ],
   "source": [
    "#вектор с элементами 2^𝑖/𝑖, 𝑖 = 1, 2, … , 𝑀, 𝑀 = 25;\n",
    "A5 = [ (2^i)/i for i = 1:1:25 ]"
   ]
  },
  {
   "cell_type": "code",
   "execution_count": 72,
   "metadata": {},
   "outputs": [
    {
     "data": {
      "text/plain": [
       "30-element Array{String,1}:\n",
       " \"f1\"\n",
       " \"n2\"\n",
       " \"f3\"\n",
       " \"n4\"\n",
       " \"f5\"\n",
       " \"n6\"\n",
       " \"f7\"\n",
       " \"n8\"\n",
       " \"f9\"\n",
       " \"n10\"\n",
       " \"f11\"\n",
       " \"n12\"\n",
       " \"f13\"\n",
       " ⋮\n",
       " \"f19\"\n",
       " \"n20\"\n",
       " \"f21\"\n",
       " \"n22\"\n",
       " \"f23\"\n",
       " \"n24\"\n",
       " \"f25\"\n",
       " \"n26\"\n",
       " \"f27\"\n",
       " \"n28\"\n",
       " \"f29\"\n",
       " \"n30\""
      ]
     },
     "execution_count": 72,
     "metadata": {},
     "output_type": "execute_result"
    }
   ],
   "source": [
    "#вектор вида (”fn1”, ”fn2”, …, ”fnN”)\n",
    "num = collect(1:30)\n",
    "fn= repeat(\"fn\",30)\n",
    "map(string, fn, num)"
   ]
  },
  {
   "cell_type": "code",
   "execution_count": 73,
   "metadata": {},
   "outputs": [
    {
     "data": {
      "text/plain": [
       "249-element Array{Int64,1}:\n",
       " -390\n",
       " -248\n",
       " -337\n",
       "  212\n",
       " -752\n",
       "  517\n",
       "   36\n",
       " -377\n",
       "  240\n",
       "  169\n",
       "  211\n",
       " -658\n",
       " -293\n",
       "    ⋮\n",
       "  156\n",
       "  466\n",
       " -194\n",
       " -408\n",
       "  385\n",
       "  202\n",
       " -278\n",
       " -167\n",
       " -235\n",
       " -531\n",
       "  820\n",
       "  387"
      ]
     },
     "execution_count": 73,
     "metadata": {},
     "output_type": "execute_result"
    }
   ],
   "source": [
    "# векторы 𝑥 = (𝑥1, 𝑥2, … , 𝑥𝑛) и 𝑦 = (𝑦1, 𝑦2, … , 𝑦𝑛) целочисленного типа длины 𝑛 = 250 как случайные выборки из совокупности 0, 1, … , 999; на его основе:\n",
    "x=rand(0:999,250)\n",
    "y=rand(0:999,250)\n",
    "# сформируйте вектор (𝑦2 − 𝑥1, … , 𝑦𝑛 − 𝑥𝑛−1);\n",
    "y[2:250]-x[1:249]"
   ]
  },
  {
   "cell_type": "code",
   "execution_count": 74,
   "metadata": {},
   "outputs": [
    {
     "data": {
      "text/plain": [
       "248-element Array{Int64,1}:\n",
       " 1585\n",
       " 1705\n",
       "  891\n",
       " 2125\n",
       "  710\n",
       " -208\n",
       " 2024\n",
       " 1040\n",
       "  685\n",
       " 1124\n",
       " 1905\n",
       " 1878\n",
       " 1643\n",
       "    ⋮\n",
       " 1666\n",
       " 1472\n",
       "  534\n",
       " 1015\n",
       " 1543\n",
       " -184\n",
       " 1584\n",
       "  716\n",
       " 1093\n",
       " 1630\n",
       "  381\n",
       "  509"
      ]
     },
     "execution_count": 74,
     "metadata": {},
     "output_type": "execute_result"
    }
   ],
   "source": [
    "# – сформируйте вектор (𝑥1 + 2𝑥2 − 𝑥3, 𝑥2 + 2𝑥3 − 𝑥4, … , 𝑥𝑛−2 + 2𝑥𝑛−1 − 𝑥𝑛);\n",
    "x[1:248]+2*x[2:249]-x[3:250]"
   ]
  },
  {
   "cell_type": "code",
   "execution_count": 75,
   "metadata": {},
   "outputs": [
    {
     "data": {
      "text/plain": [
       "249-element Array{Float64,1}:\n",
       " -1.389148885291015\n",
       "  0.35325593651065845\n",
       " -0.8636717671297872\n",
       "  0.9758953456144296\n",
       "  0.8549252104465984\n",
       "  1.1841219408292523\n",
       " -1.23056774278581\n",
       "  2.0954853190293514\n",
       "  2.332859424192246\n",
       " -0.7374725463714232\n",
       " -0.6689576251075006\n",
       "  1.481856158977029\n",
       " -1.5893143903249205\n",
       "  ⋮\n",
       " -4.522276674019646\n",
       "  4.535676908851898\n",
       "  2.3786971216942217\n",
       " -1.7985369712984942\n",
       " -1.7760604826378195\n",
       " -6.438421192585966\n",
       " -0.5271768111119243\n",
       "  0.10417332095632917\n",
       "  0.8557245298202915\n",
       " -1.010202253655946\n",
       "  0.7004218235209354\n",
       " -2.200574181565245"
      ]
     },
     "execution_count": 75,
     "metadata": {},
     "output_type": "execute_result"
    }
   ],
   "source": [
    "#сформируйте вектор (sin(𝑦1)/cos(𝑥2),sin(𝑦2)/cos(𝑥3), … ,sin(𝑦𝑛−1)/cos(𝑥𝑛));\n",
    "[ sin(y[i])/cos(x[i+1]) for i in 1:249 ]"
   ]
  },
  {
   "cell_type": "code",
   "execution_count": 76,
   "metadata": {},
   "outputs": [
    {
     "data": {
      "text/plain": [
       "7.065791692716306e-9"
      ]
     },
     "execution_count": 76,
     "metadata": {},
     "output_type": "execute_result"
    }
   ],
   "source": [
    "#вычислите сумму\n",
    "sum([ exp(-x[i+1]) / (x[i]+10) for i in 1:249])"
   ]
  },
  {
   "cell_type": "code",
   "execution_count": 77,
   "metadata": {},
   "outputs": [],
   "source": [
    "#выберите элементы вектора 𝑦, значения которых больше 600, и выведите на экран; определите индексы этих элементов;\n",
    "yf=findall(y->y>600,y)\n",
    "yr=[]\n",
    "for i in 1:length(yf)\n",
    "    push!(yr,y[yf[i]])\n",
    "end"
   ]
  },
  {
   "cell_type": "code",
   "execution_count": 78,
   "metadata": {},
   "outputs": [],
   "source": [
    "#определите значения вектора 𝑥, соответствующие значениям вектора 𝑦, значения которых больше 600\n",
    "xr=[]\n",
    "for i in 1:length(yf)\n",
    "    push!(xr,x[yf[i]])\n",
    "end"
   ]
  },
  {
   "cell_type": "code",
   "execution_count": 79,
   "metadata": {},
   "outputs": [
    {
     "data": {
      "text/plain": [
       "250-element Array{Float64,1}:\n",
       "  6.938587752561756\n",
       " 17.092220452591874\n",
       " 12.0475723695689\n",
       "  4.985579204064458\n",
       " 17.382289837647974\n",
       " 21.162608534866393\n",
       " 14.347682739731876\n",
       " 21.122121105608688\n",
       " 15.487285107467997\n",
       "  4.91365444450462\n",
       " 14.870911202747463\n",
       " 20.97960914793219\n",
       " 17.150626810702867\n",
       "  ⋮\n",
       "  6.917803119488151\n",
       " 15.161002605368814\n",
       "  7.4929300010076165\n",
       "  5.903897018072046\n",
       " 21.420924349803396\n",
       " 18.142326201454985\n",
       " 16.936823787239447\n",
       " 11.71084967028439\n",
       "  2.802855686616775\n",
       " 20.269583123488257\n",
       " 10.623370463275768\n",
       "  6.917803119488151"
      ]
     },
     "execution_count": 79,
     "metadata": {},
     "output_type": "execute_result"
    }
   ],
   "source": [
    "#сформируйте вектор (|𝑥1 − 𝑥|^1/2, |𝑥2 − 𝑥|^1/2, … , |𝑥𝑛 − 𝑥|^1/2 )\n",
    "\n",
    "av_x=mean(x)\n",
    "[ abs(x[i]-av_x)^0.5 for i in 1:250 ]"
   ]
  },
  {
   "cell_type": "code",
   "execution_count": 80,
   "metadata": {},
   "outputs": [
    {
     "data": {
      "text/plain": [
       "54"
      ]
     },
     "execution_count": 80,
     "metadata": {},
     "output_type": "execute_result"
    }
   ],
   "source": [
    "#определите, сколько элементов вектора 𝑦 отстоят от максимального значения не более, чем на 200;\n",
    "ymax=maximum(y)\n",
    "ym200=findall(y->(abs(y-ymax)<=200),y)\n",
    "length(ym200)"
   ]
  },
  {
   "cell_type": "code",
   "execution_count": 81,
   "metadata": {},
   "outputs": [
    {
     "name": "stdout",
     "output_type": "stream",
     "text": [
      "126\n",
      "124\n"
     ]
    }
   ],
   "source": [
    "#определите, сколько чётных и нечётных элементов вектора 𝑥;\n",
    "xchet=findall(x->(x%2==0),x)\n",
    "println(length(xchet))\n",
    "\n",
    "xnechet=findall(x->(x%2!=0),x)\n",
    "println(length(xnechet))"
   ]
  },
  {
   "cell_type": "code",
   "execution_count": 82,
   "metadata": {},
   "outputs": [
    {
     "data": {
      "text/plain": [
       "31"
      ]
     },
     "execution_count": 82,
     "metadata": {},
     "output_type": "execute_result"
    }
   ],
   "source": [
    "#определите, сколько элементов вектора 𝑥 кратны 7;\n",
    "x7=findall(x->(x%7==0),x)\n",
    "length(x7)"
   ]
  },
  {
   "cell_type": "code",
   "execution_count": 83,
   "metadata": {},
   "outputs": [],
   "source": [
    "#отсортируйте элементы вектора 𝑥 в порядке возрастания элементов вектора 𝑦;\n",
    "mp=sortperm(y)\n",
    "x_sort=[]\n",
    "for i in mp\n",
    "    push!(x_sort,x[i])\n",
    "end"
   ]
  },
  {
   "cell_type": "code",
   "execution_count": 84,
   "metadata": {},
   "outputs": [
    {
     "name": "stdout",
     "output_type": "stream",
     "text": [
      "995\n",
      "994\n",
      "993\n",
      "991\n",
      "989\n",
      "984\n",
      "978\n",
      "977\n",
      "966\n",
      "962\n"
     ]
    }
   ],
   "source": [
    "#выведите элементы вектора 𝑥, которые входят в десятку наибольших \n",
    "x_top=sort(x, rev=true)\n",
    "for i in 1:10\n",
    "    println(x_top[i])\n",
    "end"
   ]
  },
  {
   "cell_type": "code",
   "execution_count": 85,
   "metadata": {},
   "outputs": [
    {
     "data": {
      "text/plain": [
       "216-element Array{Int64,1}:\n",
       " 597\n",
       " 841\n",
       " 694\n",
       " 524\n",
       " 851\n",
       " 101\n",
       " 343\n",
       " 995\n",
       " 309\n",
       " 573\n",
       " 770\n",
       " 989\n",
       " 843\n",
       "   ⋮\n",
       " 801\n",
       " 207\n",
       " 589\n",
       " 501\n",
       " 319\n",
       " 605\n",
       " 514\n",
       "  90\n",
       " 878\n",
       " 262\n",
       " 541\n",
       " 436"
      ]
     },
     "execution_count": 85,
     "metadata": {},
     "output_type": "execute_result"
    }
   ],
   "source": [
    "#сформируйте вектор, содержащий только уникальные (неповторяющиеся) элементы вектора 𝑥.\n",
    "unique(x)"
   ]
  },
  {
   "cell_type": "code",
   "execution_count": 86,
   "metadata": {},
   "outputs": [
    {
     "data": {
      "text/plain": [
       "100-element Array{Int64,1}:\n",
       "     1\n",
       "     4\n",
       "     9\n",
       "    16\n",
       "    25\n",
       "    36\n",
       "    49\n",
       "    64\n",
       "    81\n",
       "   100\n",
       "   121\n",
       "   144\n",
       "   169\n",
       "     ⋮\n",
       "  7921\n",
       "  8100\n",
       "  8281\n",
       "  8464\n",
       "  8649\n",
       "  8836\n",
       "  9025\n",
       "  9216\n",
       "  9409\n",
       "  9604\n",
       "  9801\n",
       " 10000"
      ]
     },
     "execution_count": 86,
     "metadata": {},
     "output_type": "execute_result"
    }
   ],
   "source": [
    "#Создайте массив squares, в котором будут храниться квадраты всех целых чисел от 1 до 100.\n",
    "squares= [i^2 for i in 1:100]"
   ]
  },
  {
   "cell_type": "code",
   "execution_count": 87,
   "metadata": {},
   "outputs": [
    {
     "name": "stdout",
     "output_type": "stream",
     "text": [
      "461\n",
      "[461, 463, 467, 479, 487, 491, 499, 503, 509, 521, 523]\n"
     ]
    }
   ],
   "source": [
    "#Подключите пакет Primes (функции для вычисления простых чисел). Сгенерируйте\n",
    "#массив myprimes, в котором будут храниться первые 168 простых чисел. Определите\n",
    "#89-е наименьшее простое число. Получите срез массива с 89-го до 99-го элемента\n",
    "#включительно, содержащий наименьшие простые числа.\n",
    "using Primes\n",
    "myprimes=primes(999)\n",
    "println(myprimes[89])\n",
    "println(myprimes[89:99])"
   ]
  },
  {
   "cell_type": "code",
   "execution_count": 88,
   "metadata": {},
   "outputs": [
    {
     "data": {
      "text/plain": [
       "26852735"
      ]
     },
     "execution_count": 88,
     "metadata": {},
     "output_type": "execute_result"
    }
   ],
   "source": [
    "#Вычислите суммы\n",
    "s1=[i^3 + 4*i^2 for i in 10:100]\n",
    "sum(s1)"
   ]
  },
  {
   "cell_type": "code",
   "execution_count": 89,
   "metadata": {},
   "outputs": [
    {
     "data": {
      "text/plain": [
       "2.1291704368143802e9"
      ]
     },
     "execution_count": 89,
     "metadata": {},
     "output_type": "execute_result"
    }
   ],
   "source": [
    "s2=[(2^i)/i + (3^i)/(i*i) for i in 1:25]\n",
    "sum(s2)"
   ]
  },
  {
   "cell_type": "code",
   "execution_count": 90,
   "metadata": {},
   "outputs": [
    {
     "data": {
      "text/plain": [
       "5.97634613789762"
      ]
     },
     "execution_count": 90,
     "metadata": {},
     "output_type": "execute_result"
    }
   ],
   "source": [
    "x=collect(2:2:38)\n",
    "sum(cumprod(x./(x.+1)))"
   ]
  },
  {
   "cell_type": "code",
   "execution_count": null,
   "metadata": {},
   "outputs": [],
   "source": []
  }
 ],
 "metadata": {
  "kernelspec": {
   "display_name": "Julia 1.5.0",
   "language": "julia",
   "name": "julia-1.5"
  },
  "language_info": {
   "file_extension": ".jl",
   "mimetype": "application/julia",
   "name": "julia",
   "version": "1.5.0"
  }
 },
 "nbformat": 4,
 "nbformat_minor": 4
}
